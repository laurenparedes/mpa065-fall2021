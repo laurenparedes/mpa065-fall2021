{
 "cells": [
  {
   "cell_type": "markdown",
   "metadata": {
    "slideshow": {
     "slide_type": "slide"
    }
   },
   "source": [
    "# Using Pearson's $\\chi^2$ Test of Independence"
   ]
  },
  {
   "cell_type": "markdown",
   "metadata": {
    "slideshow": {
     "slide_type": "slide"
    }
   },
   "source": [
    "# 1. Pearson's $\\chi^2$ (Independence) Test\n",
    "\n",
    "We can also use Pearson's $\\chi^2$ to solve a different sort of problem. In particular, we can use Pearson's $\\chi^2$ to test the extent to which two categorical variables are independent.\n"
   ]
  },
  {
   "cell_type": "markdown",
   "metadata": {
    "slideshow": {
     "slide_type": "subslide"
    }
   },
   "source": [
    "# 1.1 Pearson's $\\chi^2$ (Independence) Test Example\n",
    "\n",
    "Suppose we would like to teach cats to dance. \n",
    "\n",
    "\t\t\n",
    "We have two training systems: using food as a reward, and using affection as a reward. Suppose after a week of training the cats, we test dancing ability. So, we have two categorical variables: _training_ and _dance_, each with two levels."
   ]
  },
  {
   "cell_type": "markdown",
   "metadata": {
    "slideshow": {
     "slide_type": "-"
    }
   },
   "source": [
    "\n",
    "|.|.|Food as reward|Affection as reward|\n",
    "|---|---|---|---|\n",
    "|Cat Dances? |Yes| 28           | 48                |\n",
    "|     .     |No | 10           | 114               |\n",
    "\n",
    "\n",
    "From these data, are the _training_ and _dance_ varialbes independent?\n",
    "\n",
    "*Source: Field _et al._ (2012)"
   ]
  },
  {
   "cell_type": "markdown",
   "metadata": {
    "slideshow": {
     "slide_type": "subslide"
    }
   },
   "source": [
    "### 1.1.1 Pearson's $\\chi^2$ Independence Test (cont.)\n",
    "The test statistic is $\\chi^2$ and is computed using:\n",
    "\n",
    " $$ \\chi ^{2}=\\sum _{{i=1}}^{{r}}\\sum _{{j=1}}^{{c}} {(O_{{i,j}}-E_{{i,j}})^{2} \\over E_{{i,j}}},  $$\n",
    "\t\n",
    "where $$ E_{i,j} = { \\text{row-total}_i \\times \\text{column-total}_j \\over N} $$\n",
    "\t\n",
    "and where $O_{i,j}$ is the observed count in cell $i, j$ and $E_{i,j}$ is the expected count for cell $i,j$ under the null hypothesis. "
   ]
  },
  {
   "cell_type": "markdown",
   "metadata": {
    "slideshow": {
     "slide_type": "subslide"
    }
   },
   "source": [
    "### 1.1.2 Pearson's $\\chi^2$ Independence Test (cont.)\n",
    "Note:\n",
    "  - Degrees of freedom: $ df = (r - 1)(c - 1) $ where $r$ is the number of rows, and $c$ is the number of columns\n",
    "  - Assumption that observations are independent from one another \n",
    "    + E.g., In above example, a cat could only be in one _training_ condition"
   ]
  },
  {
   "cell_type": "markdown",
   "metadata": {
    "slideshow": {
     "slide_type": "slide"
    }
   },
   "source": [
    "# 2. Pearson's $\\chi^2$ Independence Test in R"
   ]
  },
  {
   "cell_type": "code",
   "execution_count": 3,
   "metadata": {
    "slideshow": {
     "slide_type": "fragment"
    }
   },
   "outputs": [
    {
     "data": {
      "text/html": [
       "<table>\n",
       "<caption>A data.frame: 6 × 2</caption>\n",
       "<thead>\n",
       "\t<tr><th></th><th scope=col>can_dance</th><th scope=col>training</th></tr>\n",
       "\t<tr><th></th><th scope=col>&lt;lgl&gt;</th><th scope=col>&lt;chr&gt;</th></tr>\n",
       "</thead>\n",
       "<tbody>\n",
       "\t<tr><th scope=row>1</th><td>TRUE</td><td>food</td></tr>\n",
       "\t<tr><th scope=row>2</th><td>TRUE</td><td>food</td></tr>\n",
       "\t<tr><th scope=row>3</th><td>TRUE</td><td>food</td></tr>\n",
       "\t<tr><th scope=row>4</th><td>TRUE</td><td>food</td></tr>\n",
       "\t<tr><th scope=row>5</th><td>TRUE</td><td>food</td></tr>\n",
       "\t<tr><th scope=row>6</th><td>TRUE</td><td>food</td></tr>\n",
       "</tbody>\n",
       "</table>\n"
      ],
      "text/latex": [
       "A data.frame: 6 × 2\n",
       "\\begin{tabular}{r|ll}\n",
       "  & can\\_dance & training\\\\\n",
       "  & <lgl> & <chr>\\\\\n",
       "\\hline\n",
       "\t1 & TRUE & food\\\\\n",
       "\t2 & TRUE & food\\\\\n",
       "\t3 & TRUE & food\\\\\n",
       "\t4 & TRUE & food\\\\\n",
       "\t5 & TRUE & food\\\\\n",
       "\t6 & TRUE & food\\\\\n",
       "\\end{tabular}\n"
      ],
      "text/markdown": [
       "\n",
       "A data.frame: 6 × 2\n",
       "\n",
       "| <!--/--> | can_dance &lt;lgl&gt; | training &lt;chr&gt; |\n",
       "|---|---|---|\n",
       "| 1 | TRUE | food |\n",
       "| 2 | TRUE | food |\n",
       "| 3 | TRUE | food |\n",
       "| 4 | TRUE | food |\n",
       "| 5 | TRUE | food |\n",
       "| 6 | TRUE | food |\n",
       "\n"
      ],
      "text/plain": [
       "  can_dance training\n",
       "1 TRUE      food    \n",
       "2 TRUE      food    \n",
       "3 TRUE      food    \n",
       "4 TRUE      food    \n",
       "5 TRUE      food    \n",
       "6 TRUE      food    "
      ]
     },
     "metadata": {},
     "output_type": "display_data"
    }
   ],
   "source": [
    "can_dance <- c(rep(TRUE, 76), rep(FALSE, 124))\n",
    "\n",
    "training <- c(rep(\"food\", 28), rep(\"affection\", 48), rep(\"food\", 10), rep(\"affection\", 114))\n",
    "\n",
    "cats <- data.frame(can_dance, training)\n",
    "\n",
    "head(cats)"
   ]
  },
  {
   "cell_type": "markdown",
   "metadata": {
    "slideshow": {
     "slide_type": "subslide"
    }
   },
   "source": [
    "## 2.1 Running $\\chi^2$ Test of Independence"
   ]
  },
  {
   "cell_type": "code",
   "execution_count": 4,
   "metadata": {
    "slideshow": {
     "slide_type": "fragment"
    }
   },
   "outputs": [
    {
     "name": "stdout",
     "output_type": "stream",
     "text": [
      "       \n",
      "        affection food\n",
      "  FALSE       114   10\n",
      "  TRUE         48   28\n"
     ]
    }
   ],
   "source": [
    "# sanity check to make sure data are correct\n",
    "xtab1 <- table(cats$can_dance, cats$training)\n",
    "\n",
    "print(xtab1)"
   ]
  },
  {
   "cell_type": "code",
   "execution_count": 5,
   "metadata": {
    "slideshow": {
     "slide_type": "fragment"
    }
   },
   "outputs": [
    {
     "name": "stdout",
     "output_type": "stream",
     "text": [
      "\n",
      "\tPearson's Chi-squared test with Yates' continuity correction\n",
      "\n",
      "data:  cats$training and cats$can_dance\n",
      "X-squared = 23.52, df = 1, p-value = 1.236e-06\n",
      "\n"
     ]
    }
   ],
   "source": [
    "test1 <- chisq.test(cats$training, cats$can_dance)\n",
    "\n",
    "print(test1)"
   ]
  }
 ],
 "metadata": {
  "@webio": {
   "lastCommId": null,
   "lastKernelId": null
  },
  "celltoolbar": "Slideshow",
  "kernelspec": {
   "display_name": "R",
   "language": "R",
   "name": "ir"
  },
  "language_info": {
   "codemirror_mode": "r",
   "file_extension": ".r",
   "mimetype": "text/x-r-source",
   "name": "R",
   "pygments_lexer": "r",
   "version": "4.0.2"
  }
 },
 "nbformat": 4,
 "nbformat_minor": 2
}
