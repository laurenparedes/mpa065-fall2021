{
 "cells": [
  {
   "cell_type": "markdown",
   "metadata": {
    "slideshow": {
     "slide_type": "slide"
    }
   },
   "source": [
    "<center><h1>Cleaning Dates in R</h1></center>"
   ]
  },
  {
   "cell_type": "markdown",
   "metadata": {
    "slideshow": {
     "slide_type": "slide"
    }
   },
   "source": [
    "# 1. The _lubridate_ Package\n",
    "\n",
    "  - Extremely powerful R package for working with dates and timestamps\n",
    "  - Part of the _tidyverse_ family of packages (e.g., _dplyr_, _ggplot_, _stringr_)"
   ]
  },
  {
   "cell_type": "code",
   "execution_count": 2,
   "metadata": {
    "slideshow": {
     "slide_type": "fragment"
    }
   },
   "outputs": [],
   "source": [
    "# load pacakges\n",
    "# read in data\n",
    "\n",
    "library(dplyr)\n",
    "library(lubridate)\n",
    "\n",
    "arrests_df <- read.csv(\"./data/pvd_arrests_2020-10-03.csv\")"
   ]
  },
  {
   "cell_type": "markdown",
   "metadata": {
    "slideshow": {
     "slide_type": "subslide"
    }
   },
   "source": [
    "## 1.1 Working with Timestamps\n",
    "  - The _lubridate_ package has many built-in functions for timestamp data\n",
    "  - Also often easily recognizes when a string _is_ a timestamp"
   ]
  },
  {
   "cell_type": "code",
   "execution_count": 3,
   "metadata": {
    "slideshow": {
     "slide_type": "fragment"
    }
   },
   "outputs": [
    {
     "data": {
      "text/html": [
       "2020"
      ],
      "text/latex": [
       "2020"
      ],
      "text/markdown": [
       "2020"
      ],
      "text/plain": [
       "[1] 2020"
      ]
     },
     "metadata": {},
     "output_type": "display_data"
    }
   ],
   "source": [
    "ts <- \"2020-10-11 02:30:59\"     # ISO 8601 format\n",
    "\n",
    "year(ts)                        "
   ]
  },
  {
   "cell_type": "code",
   "execution_count": 4,
   "metadata": {
    "slideshow": {
     "slide_type": "fragment"
    }
   },
   "outputs": [
    {
     "data": {
      "text/html": [
       "10"
      ],
      "text/latex": [
       "10"
      ],
      "text/markdown": [
       "10"
      ],
      "text/plain": [
       "[1] 10"
      ]
     },
     "metadata": {},
     "output_type": "display_data"
    }
   ],
   "source": [
    "month(ts)"
   ]
  },
  {
   "cell_type": "code",
   "execution_count": 6,
   "metadata": {
    "slideshow": {
     "slide_type": "fragment"
    }
   },
   "outputs": [
    {
     "data": {
      "text/html": [
       "11"
      ],
      "text/latex": [
       "11"
      ],
      "text/markdown": [
       "11"
      ],
      "text/plain": [
       "[1] 11"
      ]
     },
     "metadata": {},
     "output_type": "display_data"
    }
   ],
   "source": [
    "day(ts)"
   ]
  },
  {
   "cell_type": "markdown",
   "metadata": {
    "slideshow": {
     "slide_type": "subslide"
    }
   },
   "source": [
    "### 1.1.1 Extracting Time"
   ]
  },
  {
   "cell_type": "code",
   "execution_count": 7,
   "metadata": {
    "slideshow": {
     "slide_type": "fragment"
    }
   },
   "outputs": [
    {
     "data": {
      "text/html": [
       "2"
      ],
      "text/latex": [
       "2"
      ],
      "text/markdown": [
       "2"
      ],
      "text/plain": [
       "[1] 2"
      ]
     },
     "metadata": {},
     "output_type": "display_data"
    },
    {
     "data": {
      "text/html": [
       "30"
      ],
      "text/latex": [
       "30"
      ],
      "text/markdown": [
       "30"
      ],
      "text/plain": [
       "[1] 30"
      ]
     },
     "metadata": {},
     "output_type": "display_data"
    },
    {
     "data": {
      "text/html": [
       "59"
      ],
      "text/latex": [
       "59"
      ],
      "text/markdown": [
       "59"
      ],
      "text/plain": [
       "[1] 59"
      ]
     },
     "metadata": {},
     "output_type": "display_data"
    }
   ],
   "source": [
    "ts <- \"2020-10-11 02:30:59\"\n",
    "\n",
    "hour(ts)\n",
    "minute(ts)\n",
    "second(ts)"
   ]
  },
  {
   "cell_type": "code",
   "execution_count": 10,
   "metadata": {
    "slideshow": {
     "slide_type": "fragment"
    }
   },
   "outputs": [
    {
     "data": {
      "text/html": [
       "TRUE"
      ],
      "text/latex": [
       "TRUE"
      ],
      "text/markdown": [
       "TRUE"
      ],
      "text/plain": [
       "[1] TRUE"
      ]
     },
     "metadata": {},
     "output_type": "display_data"
    },
    {
     "data": {
      "text/html": [
       "TRUE"
      ],
      "text/latex": [
       "TRUE"
      ],
      "text/markdown": [
       "TRUE"
      ],
      "text/plain": [
       "[1] TRUE"
      ]
     },
     "metadata": {},
     "output_type": "display_data"
    }
   ],
   "source": [
    "am(ts)             # is it AM time (i.e., morning)?\n",
    "\n",
    "dst(ts)"
   ]
  },
  {
   "cell_type": "markdown",
   "metadata": {
    "slideshow": {
     "slide_type": "subslide"
    }
   },
   "source": [
    "### 1.1.2 Extracting Day-of-Week"
   ]
  },
  {
   "cell_type": "code",
   "execution_count": 11,
   "metadata": {
    "slideshow": {
     "slide_type": "fragment"
    }
   },
   "outputs": [
    {
     "data": {
      "text/html": [
       "1"
      ],
      "text/latex": [
       "1"
      ],
      "text/markdown": [
       "1"
      ],
      "text/plain": [
       "[1] 1"
      ]
     },
     "metadata": {},
     "output_type": "display_data"
    }
   ],
   "source": [
    "ts <- \"2020-10-11 02:30:59\"\n",
    "\n",
    "wday(ts)"
   ]
  },
  {
   "cell_type": "code",
   "execution_count": 13,
   "metadata": {
    "slideshow": {
     "slide_type": "fragment"
    }
   },
   "outputs": [
    {
     "data": {
      "text/html": [
       "'Sun'"
      ],
      "text/latex": [
       "'Sun'"
      ],
      "text/markdown": [
       "'Sun'"
      ],
      "text/plain": [
       "[1] \"Sun\""
      ]
     },
     "metadata": {},
     "output_type": "display_data"
    }
   ],
   "source": [
    "toString(wday(ts, label = TRUE))"
   ]
  },
  {
   "cell_type": "markdown",
   "metadata": {
    "slideshow": {
     "slide_type": "subslide"
    }
   },
   "source": [
    "## 1.2 Other Timestamp Formats"
   ]
  },
  {
   "cell_type": "code",
   "execution_count": 14,
   "metadata": {
    "slideshow": {
     "slide_type": "fragment"
    }
   },
   "outputs": [
    {
     "data": {
      "text/html": [
       "'Sun'"
      ],
      "text/latex": [
       "'Sun'"
      ],
      "text/markdown": [
       "'Sun'"
      ],
      "text/plain": [
       "[1] \"Sun\""
      ]
     },
     "metadata": {},
     "output_type": "display_data"
    }
   ],
   "source": [
    "ts2 <- \"2020-10-11\"\n",
    "\n",
    "toString(wday(ts2, label = TRUE))"
   ]
  },
  {
   "cell_type": "code",
   "execution_count": 21,
   "metadata": {
    "slideshow": {
     "slide_type": "fragment"
    }
   },
   "outputs": [
    {
     "data": {
      "text/html": [
       "'Sun'"
      ],
      "text/latex": [
       "'Sun'"
      ],
      "text/markdown": [
       "'Sun'"
      ],
      "text/plain": [
       "[1] \"Sun\""
      ]
     },
     "metadata": {},
     "output_type": "display_data"
    }
   ],
   "source": [
    "ts3 <- as_datetime(\"20201011\")\n",
    "\n",
    "toString(wday(ts3, label = TRUE))"
   ]
  },
  {
   "cell_type": "markdown",
   "metadata": {
    "slideshow": {
     "slide_type": "subslide"
    }
   },
   "source": [
    "### 1.2.1 Non ISO 8601 Format\n",
    "  - We can also tell _lubridate_ package how to parse non-obvious timestamps"
   ]
  },
  {
   "cell_type": "code",
   "execution_count": 23,
   "metadata": {
    "slideshow": {
     "slide_type": "fragment"
    }
   },
   "outputs": [
    {
     "ename": "ERROR",
     "evalue": "Error in as.POSIXlt.character(x, tz = tz(x)): character string is not in a standard unambiguous format\n",
     "output_type": "error",
     "traceback": [
      "Error in as.POSIXlt.character(x, tz = tz(x)): character string is not in a standard unambiguous format\nTraceback:\n",
      "1. month(ts3)",
      "2. month.default(ts3)",
      "3. month(as.POSIXlt(x, tz = tz(x))$mon + 1, label, abbr, locale = locale)",
      "4. as.POSIXlt(x, tz = tz(x))",
      "5. as.POSIXlt.character(x, tz = tz(x))",
      "6. stop(\"character string is not in a standard unambiguous format\")"
     ]
    }
   ],
   "source": [
    "ts3 <- \"October 11, 2020\"\n",
    "\n",
    "month(ts3)             "
   ]
  },
  {
   "cell_type": "code",
   "execution_count": 25,
   "metadata": {
    "slideshow": {
     "slide_type": "fragment"
    }
   },
   "outputs": [
    {
     "data": {
      "text/html": [
       "<time datetime=\"2020-10-11\">2020-10-11</time>"
      ],
      "text/latex": [
       "2020-10-11"
      ],
      "text/markdown": [
       "2020-10-11"
      ],
      "text/plain": [
       "[1] \"2020-10-11\""
      ]
     },
     "metadata": {},
     "output_type": "display_data"
    }
   ],
   "source": [
    "mdy(ts3)             # Month-day-year format (also dmy(), ymd(), and others)"
   ]
  },
  {
   "cell_type": "code",
   "execution_count": 26,
   "metadata": {
    "slideshow": {
     "slide_type": "fragment"
    }
   },
   "outputs": [
    {
     "data": {
      "text/html": [
       "10"
      ],
      "text/latex": [
       "10"
      ],
      "text/markdown": [
       "10"
      ],
      "text/plain": [
       "[1] 10"
      ]
     },
     "metadata": {},
     "output_type": "display_data"
    }
   ],
   "source": [
    "month(mdy(ts3))"
   ]
  },
  {
   "cell_type": "markdown",
   "metadata": {
    "slideshow": {
     "slide_type": "subslide"
    }
   },
   "source": [
    "# 2. Math with Timestamps\n",
    "\n",
    "  - The _lubridate_ pacakge also makes it easy to do math with dates and times"
   ]
  },
  {
   "cell_type": "code",
   "execution_count": 29,
   "metadata": {
    "slideshow": {
     "slide_type": "fragment"
    }
   },
   "outputs": [
    {
     "data": {
      "text/plain": [
       "Time difference of 2.830058 days"
      ]
     },
     "metadata": {},
     "output_type": "display_data"
    }
   ],
   "source": [
    "time1 <- as_datetime(\"2020-10-11 03:45:52\")\n",
    "time2 <- as_datetime(\"2020-10-13 23:41:09\")\n",
    "\n",
    "time2 - time1"
   ]
  },
  {
   "cell_type": "markdown",
   "metadata": {
    "slideshow": {
     "slide_type": "subslide"
    }
   },
   "source": [
    "## 2.1 Date/Time Intervals"
   ]
  },
  {
   "cell_type": "code",
   "execution_count": 30,
   "metadata": {
    "slideshow": {
     "slide_type": "fragment"
    }
   },
   "outputs": [],
   "source": [
    "time1 <- as_datetime(\"2020-10-12\")\n",
    "time2 <- as_datetime(\"2020-10-15\")\n",
    "\n",
    "\n",
    "dt_intr <- interval(time1, time2)"
   ]
  },
  {
   "cell_type": "code",
   "execution_count": 37,
   "metadata": {
    "slideshow": {
     "slide_type": "fragment"
    }
   },
   "outputs": [
    {
     "data": {
      "text/html": [
       "TRUE"
      ],
      "text/latex": [
       "TRUE"
      ],
      "text/markdown": [
       "TRUE"
      ],
      "text/plain": [
       "[1] TRUE"
      ]
     },
     "metadata": {},
     "output_type": "display_data"
    }
   ],
   "source": [
    "as_datetime(\"2020-10-13\") %within% dt_intr"
   ]
  },
  {
   "cell_type": "code",
   "execution_count": 38,
   "metadata": {
    "slideshow": {
     "slide_type": "fragment"
    }
   },
   "outputs": [
    {
     "data": {
      "text/html": [
       "FALSE"
      ],
      "text/latex": [
       "FALSE"
      ],
      "text/markdown": [
       "FALSE"
      ],
      "text/plain": [
       "[1] FALSE"
      ]
     },
     "metadata": {},
     "output_type": "display_data"
    }
   ],
   "source": [
    "now() %within% dt_intr"
   ]
  },
  {
   "cell_type": "markdown",
   "metadata": {
    "slideshow": {
     "slide_type": "slide"
    }
   },
   "source": [
    "# 3. Arrests by Day-of-Week\n",
    "\n",
    "  - Suppose we want to explore the number of arrests by the day of the week\n",
    "  "
   ]
  },
  {
   "cell_type": "markdown",
   "metadata": {
    "slideshow": {
     "slide_type": "subslide"
    }
   },
   "source": [
    "## 3.1 Create `day_of_week()` Function"
   ]
  },
  {
   "cell_type": "code",
   "execution_count": 39,
   "metadata": {
    "slideshow": {
     "slide_type": "fragment"
    }
   },
   "outputs": [],
   "source": [
    "\n",
    "day_of_week <- function(timestamps) {\n",
    "    \n",
    "    n <- length(timestamps)  # get length of input column\n",
    "    day <- rep(\"\", n)        # allocate vector for day of week\n",
    "    \n",
    "    # iterate over elements of input column and return \n",
    "    # the day of the week for each timestamp\n",
    "    \n",
    "    for (i in 1:n) {\n",
    "        day[i] <- toString(wday(timestamps[i], label = TRUE))\n",
    "    }\n",
    "    return(day)\n",
    "}\n"
   ]
  },
  {
   "cell_type": "markdown",
   "metadata": {
    "slideshow": {
     "slide_type": "subslide"
    }
   },
   "source": [
    "### 3.1.1 Creating `weekday` Column\n",
    "   - Now we can use our newly created `day_of_week()` function to add a new column"
   ]
  },
  {
   "cell_type": "code",
   "execution_count": 40,
   "metadata": {
    "slideshow": {
     "slide_type": "fragment"
    }
   },
   "outputs": [],
   "source": [
    "# use out `day_of_week()` function to create new column\n",
    "# in our original dataframe\n",
    "\n",
    "arrests_df$weekday <- day_of_week(arrests_df$arrest_date)"
   ]
  },
  {
   "cell_type": "code",
   "execution_count": 42,
   "metadata": {
    "slideshow": {
     "slide_type": "fragment"
    }
   },
   "outputs": [
    {
     "data": {
      "text/html": [
       "<table>\n",
       "<caption>A data.frame: 6 × 19</caption>\n",
       "<thead>\n",
       "\t<tr><th></th><th scope=col>arrest_date</th><th scope=col>year</th><th scope=col>month</th><th scope=col>gender</th><th scope=col>race</th><th scope=col>ethnicity</th><th scope=col>year_of_birth</th><th scope=col>age</th><th scope=col>from_address</th><th scope=col>from_city</th><th scope=col>from_state</th><th scope=col>statute_type</th><th scope=col>statute_code</th><th scope=col>statute_desc</th><th scope=col>counts</th><th scope=col>case_number</th><th scope=col>arresting_officers</th><th scope=col>arrestee_id</th><th scope=col>weekday</th></tr>\n",
       "\t<tr><th></th><th scope=col>&lt;chr&gt;</th><th scope=col>&lt;int&gt;</th><th scope=col>&lt;int&gt;</th><th scope=col>&lt;chr&gt;</th><th scope=col>&lt;chr&gt;</th><th scope=col>&lt;chr&gt;</th><th scope=col>&lt;int&gt;</th><th scope=col>&lt;int&gt;</th><th scope=col>&lt;chr&gt;</th><th scope=col>&lt;chr&gt;</th><th scope=col>&lt;chr&gt;</th><th scope=col>&lt;chr&gt;</th><th scope=col>&lt;chr&gt;</th><th scope=col>&lt;chr&gt;</th><th scope=col>&lt;int&gt;</th><th scope=col>&lt;chr&gt;</th><th scope=col>&lt;chr&gt;</th><th scope=col>&lt;chr&gt;</th><th scope=col>&lt;chr&gt;</th></tr>\n",
       "</thead>\n",
       "<tbody>\n",
       "\t<tr><th scope=row>1</th><td>2019-08-24T02:23:00.0</td><td>2019</td><td>8</td><td>Male  </td><td>White</td><td>NonHispanic</td><td>1981</td><td>37</td><td>No Permanent Address</td><td>providence</td><td>Rhode Island</td><td>                    </td><td>        </td><td>                                                         </td><td>NA</td><td>2019-00084142</td><td> YGonzalez, LTaveras    </td><td>pvd2218242150382148273 </td><td>Sat</td></tr>\n",
       "\t<tr><th scope=row>2</th><td>2019-08-24T02:02:00.0</td><td>2019</td><td>8</td><td>      </td><td>     </td><td>           </td><td>1994</td><td>25</td><td>SUMMER AVE          </td><td>Cranston  </td><td>Rhode Island</td><td>RI Statute Violation</td><td>31-11-18</td><td>Driving after Denial, Suspension or Revocation of License</td><td> 1</td><td>2019-00084127</td><td> NManfredi              </td><td>pvd15166785558364246202</td><td>Sat</td></tr>\n",
       "\t<tr><th scope=row>3</th><td>2019-08-24T02:02:00.0</td><td>2019</td><td>8</td><td>Female</td><td>Black</td><td>NonHispanic</td><td>1984</td><td>34</td><td>DOUGLAS AVE         </td><td>Providence</td><td>Rhode Island</td><td>RI Statute Violation</td><td>12-7-10 </td><td>RESISTING LEGAL OR ILLEGAL ARREST                        </td><td> 1</td><td>2019-00084126</td><td> MPlace, JPerez, ASantos</td><td>pvd3142917706201385905 </td><td>Sat</td></tr>\n",
       "\t<tr><th scope=row>4</th><td>2019-08-24T02:02:00.0</td><td>2019</td><td>8</td><td>Female</td><td>Black</td><td>NonHispanic</td><td>1984</td><td>34</td><td>DOUGLAS AVE         </td><td>Providence</td><td>Rhode Island</td><td>RI Statute Violation</td><td>11-45-1 </td><td>DISORDERLY CONDUCT                                       </td><td> 1</td><td>2019-00084126</td><td> MPlace, JPerez, ASantos</td><td>pvd3142917706201385905 </td><td>Sat</td></tr>\n",
       "\t<tr><th scope=row>5</th><td>2019-08-24T02:02:00.0</td><td>2019</td><td>8</td><td>Female</td><td>Black</td><td>Unknown    </td><td>2001</td><td>18</td><td>TRASH ST            </td><td>          </td><td>            </td><td>RI Statute Violation</td><td>12-7-10 </td><td>RESISTING LEGAL OR ILLEGAL ARREST                        </td><td> 1</td><td>2019-00084126</td><td> MPlace, JPerez, ASantos</td><td>pvd460449304532374599  </td><td>Sat</td></tr>\n",
       "\t<tr><th scope=row>6</th><td>2019-08-24T02:02:00.0</td><td>2019</td><td>8</td><td>Female</td><td>Black</td><td>Unknown    </td><td>2001</td><td>18</td><td>TRASH ST            </td><td>          </td><td>            </td><td>RI Statute Violation</td><td>11-45-1 </td><td>DISORDERLY CONDUCT                                       </td><td> 1</td><td>2019-00084126</td><td> MPlace, JPerez, ASantos</td><td>pvd460449304532374599  </td><td>Sat</td></tr>\n",
       "</tbody>\n",
       "</table>\n"
      ],
      "text/latex": [
       "A data.frame: 6 × 19\n",
       "\\begin{tabular}{r|lllllllllllllllllll}\n",
       "  & arrest\\_date & year & month & gender & race & ethnicity & year\\_of\\_birth & age & from\\_address & from\\_city & from\\_state & statute\\_type & statute\\_code & statute\\_desc & counts & case\\_number & arresting\\_officers & arrestee\\_id & weekday\\\\\n",
       "  & <chr> & <int> & <int> & <chr> & <chr> & <chr> & <int> & <int> & <chr> & <chr> & <chr> & <chr> & <chr> & <chr> & <int> & <chr> & <chr> & <chr> & <chr>\\\\\n",
       "\\hline\n",
       "\t1 & 2019-08-24T02:23:00.0 & 2019 & 8 & Male   & White & NonHispanic & 1981 & 37 & No Permanent Address & providence & Rhode Island &                      &          &                                                           & NA & 2019-00084142 &  YGonzalez, LTaveras     & pvd2218242150382148273  & Sat\\\\\n",
       "\t2 & 2019-08-24T02:02:00.0 & 2019 & 8 &        &       &             & 1994 & 25 & SUMMER AVE           & Cranston   & Rhode Island & RI Statute Violation & 31-11-18 & Driving after Denial, Suspension or Revocation of License &  1 & 2019-00084127 &  NManfredi               & pvd15166785558364246202 & Sat\\\\\n",
       "\t3 & 2019-08-24T02:02:00.0 & 2019 & 8 & Female & Black & NonHispanic & 1984 & 34 & DOUGLAS AVE          & Providence & Rhode Island & RI Statute Violation & 12-7-10  & RESISTING LEGAL OR ILLEGAL ARREST                         &  1 & 2019-00084126 &  MPlace, JPerez, ASantos & pvd3142917706201385905  & Sat\\\\\n",
       "\t4 & 2019-08-24T02:02:00.0 & 2019 & 8 & Female & Black & NonHispanic & 1984 & 34 & DOUGLAS AVE          & Providence & Rhode Island & RI Statute Violation & 11-45-1  & DISORDERLY CONDUCT                                        &  1 & 2019-00084126 &  MPlace, JPerez, ASantos & pvd3142917706201385905  & Sat\\\\\n",
       "\t5 & 2019-08-24T02:02:00.0 & 2019 & 8 & Female & Black & Unknown     & 2001 & 18 & TRASH ST             &            &              & RI Statute Violation & 12-7-10  & RESISTING LEGAL OR ILLEGAL ARREST                         &  1 & 2019-00084126 &  MPlace, JPerez, ASantos & pvd460449304532374599   & Sat\\\\\n",
       "\t6 & 2019-08-24T02:02:00.0 & 2019 & 8 & Female & Black & Unknown     & 2001 & 18 & TRASH ST             &            &              & RI Statute Violation & 11-45-1  & DISORDERLY CONDUCT                                        &  1 & 2019-00084126 &  MPlace, JPerez, ASantos & pvd460449304532374599   & Sat\\\\\n",
       "\\end{tabular}\n"
      ],
      "text/markdown": [
       "\n",
       "A data.frame: 6 × 19\n",
       "\n",
       "| <!--/--> | arrest_date &lt;chr&gt; | year &lt;int&gt; | month &lt;int&gt; | gender &lt;chr&gt; | race &lt;chr&gt; | ethnicity &lt;chr&gt; | year_of_birth &lt;int&gt; | age &lt;int&gt; | from_address &lt;chr&gt; | from_city &lt;chr&gt; | from_state &lt;chr&gt; | statute_type &lt;chr&gt; | statute_code &lt;chr&gt; | statute_desc &lt;chr&gt; | counts &lt;int&gt; | case_number &lt;chr&gt; | arresting_officers &lt;chr&gt; | arrestee_id &lt;chr&gt; | weekday &lt;chr&gt; |\n",
       "|---|---|---|---|---|---|---|---|---|---|---|---|---|---|---|---|---|---|---|---|\n",
       "| 1 | 2019-08-24T02:23:00.0 | 2019 | 8 | Male   | White | NonHispanic | 1981 | 37 | No Permanent Address | providence | Rhode Island | <!----> | <!----> | <!----> | NA | 2019-00084142 |  YGonzalez, LTaveras     | pvd2218242150382148273  | Sat |\n",
       "| 2 | 2019-08-24T02:02:00.0 | 2019 | 8 | <!----> | <!----> | <!----> | 1994 | 25 | SUMMER AVE           | Cranston   | Rhode Island | RI Statute Violation | 31-11-18 | Driving after Denial, Suspension or Revocation of License |  1 | 2019-00084127 |  NManfredi               | pvd15166785558364246202 | Sat |\n",
       "| 3 | 2019-08-24T02:02:00.0 | 2019 | 8 | Female | Black | NonHispanic | 1984 | 34 | DOUGLAS AVE          | Providence | Rhode Island | RI Statute Violation | 12-7-10  | RESISTING LEGAL OR ILLEGAL ARREST                         |  1 | 2019-00084126 |  MPlace, JPerez, ASantos | pvd3142917706201385905  | Sat |\n",
       "| 4 | 2019-08-24T02:02:00.0 | 2019 | 8 | Female | Black | NonHispanic | 1984 | 34 | DOUGLAS AVE          | Providence | Rhode Island | RI Statute Violation | 11-45-1  | DISORDERLY CONDUCT                                        |  1 | 2019-00084126 |  MPlace, JPerez, ASantos | pvd3142917706201385905  | Sat |\n",
       "| 5 | 2019-08-24T02:02:00.0 | 2019 | 8 | Female | Black | Unknown     | 2001 | 18 | TRASH ST             | <!----> | <!----> | RI Statute Violation | 12-7-10  | RESISTING LEGAL OR ILLEGAL ARREST                         |  1 | 2019-00084126 |  MPlace, JPerez, ASantos | pvd460449304532374599   | Sat |\n",
       "| 6 | 2019-08-24T02:02:00.0 | 2019 | 8 | Female | Black | Unknown     | 2001 | 18 | TRASH ST             | <!----> | <!----> | RI Statute Violation | 11-45-1  | DISORDERLY CONDUCT                                        |  1 | 2019-00084126 |  MPlace, JPerez, ASantos | pvd460449304532374599   | Sat |\n",
       "\n"
      ],
      "text/plain": [
       "  arrest_date           year month gender race  ethnicity   year_of_birth age\n",
       "1 2019-08-24T02:23:00.0 2019 8     Male   White NonHispanic 1981          37 \n",
       "2 2019-08-24T02:02:00.0 2019 8                              1994          25 \n",
       "3 2019-08-24T02:02:00.0 2019 8     Female Black NonHispanic 1984          34 \n",
       "4 2019-08-24T02:02:00.0 2019 8     Female Black NonHispanic 1984          34 \n",
       "5 2019-08-24T02:02:00.0 2019 8     Female Black Unknown     2001          18 \n",
       "6 2019-08-24T02:02:00.0 2019 8     Female Black Unknown     2001          18 \n",
       "  from_address         from_city  from_state   statute_type        \n",
       "1 No Permanent Address providence Rhode Island                     \n",
       "2 SUMMER AVE           Cranston   Rhode Island RI Statute Violation\n",
       "3 DOUGLAS AVE          Providence Rhode Island RI Statute Violation\n",
       "4 DOUGLAS AVE          Providence Rhode Island RI Statute Violation\n",
       "5 TRASH ST                                     RI Statute Violation\n",
       "6 TRASH ST                                     RI Statute Violation\n",
       "  statute_code statute_desc                                              counts\n",
       "1                                                                        NA    \n",
       "2 31-11-18     Driving after Denial, Suspension or Revocation of License  1    \n",
       "3 12-7-10      RESISTING LEGAL OR ILLEGAL ARREST                          1    \n",
       "4 11-45-1      DISORDERLY CONDUCT                                         1    \n",
       "5 12-7-10      RESISTING LEGAL OR ILLEGAL ARREST                          1    \n",
       "6 11-45-1      DISORDERLY CONDUCT                                         1    \n",
       "  case_number   arresting_officers       arrestee_id             weekday\n",
       "1 2019-00084142  YGonzalez, LTaveras     pvd2218242150382148273  Sat    \n",
       "2 2019-00084127  NManfredi               pvd15166785558364246202 Sat    \n",
       "3 2019-00084126  MPlace, JPerez, ASantos pvd3142917706201385905  Sat    \n",
       "4 2019-00084126  MPlace, JPerez, ASantos pvd3142917706201385905  Sat    \n",
       "5 2019-00084126  MPlace, JPerez, ASantos pvd460449304532374599   Sat    \n",
       "6 2019-00084126  MPlace, JPerez, ASantos pvd460449304532374599   Sat    "
      ]
     },
     "metadata": {},
     "output_type": "display_data"
    }
   ],
   "source": [
    "# use head() to examine updated dataframe\n",
    "\n",
    "head(arrests_df)"
   ]
  },
  {
   "cell_type": "markdown",
   "metadata": {
    "slideshow": {
     "slide_type": "subslide"
    }
   },
   "source": [
    "### 3.1.2 Counts by `weekday`\n",
    "\n",
    "We can now obtain thee counts by day of the week using the `table()` function. We simply pass it the column of the dataframe for which we want to create a tabular summary."
   ]
  },
  {
   "cell_type": "code",
   "execution_count": 43,
   "metadata": {
    "slideshow": {
     "slide_type": "fragment"
    }
   },
   "outputs": [
    {
     "data": {
      "text/plain": [
       "\n",
       " Fri  Mon  Sat  Sun  Thu  Tue  Wed \n",
       "1278 1164 1277 1293 1178 1323 1242 "
      ]
     },
     "metadata": {},
     "output_type": "display_data"
    }
   ],
   "source": [
    "# use table() to get counts of arrests by `weekday`\n",
    "\n",
    "table(arrests_df$weekday)"
   ]
  }
 ],
 "metadata": {
  "@webio": {
   "lastCommId": null,
   "lastKernelId": null
  },
  "celltoolbar": "Slideshow",
  "kernelspec": {
   "display_name": "R",
   "language": "R",
   "name": "ir"
  },
  "language_info": {
   "codemirror_mode": "r",
   "file_extension": ".r",
   "mimetype": "text/x-r-source",
   "name": "R",
   "pygments_lexer": "r",
   "version": "4.0.2"
  }
 },
 "nbformat": 4,
 "nbformat_minor": 2
}
