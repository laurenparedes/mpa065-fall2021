{
 "cells": [
  {
   "cell_type": "code",
   "execution_count": null,
   "metadata": {},
   "outputs": [],
   "source": [
    "qsort <- function(a, lo, hi) {\n",
    "    i <- lo\n",
    "    j <- hi\n",
    "    tmp <- 0\n",
    "    while (i < hi) {\n",
    "        pivot <- a[(lo + hi) %/%2]\n",
    "        while (i <= j) {\n",
    "            while (a[i] < pivot) {\n",
    "                i <- i + 1\n",
    "            }\n",
    "            while (a[j] > pivot) {\n",
    "                j <- j - 1\n",
    "            }\n",
    "            if (i <= j) {\n",
    "                tmp <- a[i]\n",
    "                a[i] <- a[j]\n",
    "                a[j] <- tmp\n",
    "                i <- i + 1\n",
    "                j <- j - 1\n",
    "            } \n",
    "        }\n",
    "        if (lo < j) {\n",
    "            qsort(a, lo, j)\n",
    "        }\n",
    "        lo <- i\n",
    "        j <- hi\n",
    "    } \n",
    "    return(a)\n",
    "} "
   ]
  },
  {
   "cell_type": "code",
   "execution_count": null,
   "metadata": {},
   "outputs": [],
   "source": [
    "n <- 100000\n",
    "v <- rnorm(n)\n",
    "\n",
    "system.time(qsort(v, 1, n))"
   ]
  }
 ],
 "metadata": {
  "@webio": {
   "lastCommId": null,
   "lastKernelId": null
  },
  "celltoolbar": "Slideshow",
  "kernelspec": {
   "display_name": "R",
   "language": "R",
   "name": "ir"
  },
  "language_info": {
   "codemirror_mode": "r",
   "file_extension": ".r",
   "mimetype": "text/x-r-source",
   "name": "R",
   "pygments_lexer": "r",
   "version": "4.0.2"
  }
 },
 "nbformat": 4,
 "nbformat_minor": 2
}
