{
 "cells": [
  {
   "cell_type": "markdown",
   "metadata": {
    "slideshow": {
     "slide_type": "slide"
    }
   },
   "source": [
    "# Using Pearson's $\\chi^2$ Test for Categorical Data"
   ]
  },
  {
   "cell_type": "markdown",
   "metadata": {
    "slideshow": {
     "slide_type": "slide"
    }
   },
   "source": [
    "# 1. Pearson's $\\chi^2$ Test\n",
    "\n",
    "What if our categorical variables has more than 2 categories?\n",
    "\n",
    "There are a few options when you have a variable with more than 2 categories\n",
    "  - Exact Multinomial Test (EMT package in _R_)\n",
    "  - _G_-Test for Goodness-of-Fit (also called likelihood ratio test)\n",
    "  - Pearson's $\\chi^2$ (Goodness-of-Fit) Test"
   ]
  },
  {
   "cell_type": "markdown",
   "metadata": {
    "slideshow": {
     "slide_type": "subslide"
    }
   },
   "source": [
    "# 1.1 Pearson's $\\chi^2$ (Goodness-of-Fit) Test\n",
    "Pearson's $\\chi^2$ goodness-of-fit test can be used when we have some categorical variable, $X$, where each $X_i$ is a value from one of $K$ categories, and where $K \\ge 2$ and we have an expected probability, $P_k$, for each category."
   ]
  },
  {
   "cell_type": "markdown",
   "metadata": {
    "slideshow": {
     "slide_type": "subslide"
    }
   },
   "source": [
    "## 1.2 Pearson's $\\chi^2$ Goodness-of-Fit Test Example\n",
    "\t\t\n",
    "Suppose we want to determine whether or not a die is loaded (i.e., not a fair die). Say we roll the die 100 times, and we obtain the following results:\n",
    "\n",
    "| Face | Count |\n",
    "| :- | --- |\n",
    "| 1 | 13 |\n",
    "| 2 | 21 |\n",
    "| 3 | 15 |\n",
    "| 4 | 17 |\n",
    "| 5 | 20 |\n",
    "| 6 | 14 |\n",
    "\n",
    "\n",
    "Are we confident that this is a fair die?"
   ]
  },
  {
   "cell_type": "markdown",
   "metadata": {
    "slideshow": {
     "slide_type": "subslide"
    }
   },
   "source": [
    "### 1.2.1 Pearson's $\\chi^2$ Test Example (cont.)\n",
    "The test statistic is $\\chi^2$ and is computed using:\n",
    "\n",
    "$$ \\chi^{2}=\\sum _{k=1}^{K}{\\frac {(O_{k}-E_{k})^{2}}{E_{k}}},  $$\n",
    "\n",
    "where $K$ is the number of categories, $O_k$ is the observed count for category $k$, and $E_k$ is the expected count for category $k$ under the null hypothesis. The degrees of freedom are: $df = K - 1$."
   ]
  },
  {
   "cell_type": "markdown",
   "metadata": {
    "slideshow": {
     "slide_type": "subslide"
    }
   },
   "source": [
    "### 1.2.2 Pearson's $\\chi^2$ Test Example (cont.)\n",
    "The $\\chi^2$ test statistic follows the $\\chi^2$ distribution, a continuous distribution with a single parameter—the degrees of freedom (i.e., $df$).\n",
    "\n",
    "<center><img src=\"images/chisq_dist.jpg\" width=\"650\"></center>\n",
    "\n",
    "[1.] Image source: https://stats.libretext.org"
   ]
  },
  {
   "cell_type": "markdown",
   "metadata": {
    "slideshow": {
     "slide_type": "subslide"
    }
   },
   "source": [
    "### 1.2.3 Pearson's $\\chi^2$ Test Example (cont.)\n",
    "\t\n",
    "With this $\\chi^2$ and $df$, we evaluate probability of observed data if the null hypothesis is true.\n",
    "  - Note that Pearson's $\\chi^2$ goodness-of-fit test assumes observations are independent from one another\n",
    "\n",
    "<br>\n",
    "<center><img src=\"images/chisq_dist2.jpg\" width=\"650\"></center>\n",
    "\n",
    "[1.] Image source: https://actuarialmodelingtopics.wordpress.com"
   ]
  },
  {
   "cell_type": "markdown",
   "metadata": {
    "slideshow": {
     "slide_type": "subslide"
    }
   },
   "source": [
    "### 1.2.4 Using the `chisq.test()` Function "
   ]
  },
  {
   "cell_type": "code",
   "execution_count": 31,
   "metadata": {
    "slideshow": {
     "slide_type": "fragment"
    }
   },
   "outputs": [],
   "source": [
    "roll_cnts <- c(13, 21, 15, 17, 20, 14)           # create vector with our counts\n",
    "\n",
    "probs <- rep(1/6, 6)                             # create vector with 6 elements, all 1/6"
   ]
  },
  {
   "cell_type": "code",
   "execution_count": 32,
   "metadata": {
    "slideshow": {
     "slide_type": "fragment"
    }
   },
   "outputs": [
    {
     "name": "stdout",
     "output_type": "stream",
     "text": [
      "\n",
      "\tChi-squared test for given probabilities\n",
      "\n",
      "data:  roll_cnts\n",
      "X-squared = 3.2, df = 5, p-value = 0.6692\n",
      "\n"
     ]
    }
   ],
   "source": [
    "test1 <- chisq.test(roll_cnts, p = probs)        # run test\n",
    "\n",
    "print(test1)"
   ]
  },
  {
   "cell_type": "markdown",
   "metadata": {
    "slideshow": {
     "slide_type": "subslide"
    }
   },
   "source": [
    "### 1.2.5 Using `str()` on Output of `chisq.test()`"
   ]
  },
  {
   "cell_type": "code",
   "execution_count": 17,
   "metadata": {
    "slideshow": {
     "slide_type": "fragment"
    }
   },
   "outputs": [
    {
     "name": "stdout",
     "output_type": "stream",
     "text": [
      "List of 9\n",
      " $ statistic: Named num 3.2\n",
      "  ..- attr(*, \"names\")= chr \"X-squared\"\n",
      " $ parameter: Named num 5\n",
      "  ..- attr(*, \"names\")= chr \"df\"\n",
      " $ p.value  : num 0.669\n",
      " $ method   : chr \"Chi-squared test for given probabilities\"\n",
      " $ data.name: chr \"roll_cnts\"\n",
      " $ observed : num [1:6] 13 21 15 17 20 14\n",
      " $ expected : num [1:6] 16.7 16.7 16.7 16.7 16.7 ...\n",
      " $ residuals: num [1:6] -0.8981 1.0614 -0.4082 0.0816 0.8165 ...\n",
      " $ stdres   : num [1:6] -0.9839 1.1628 -0.4472 0.0894 0.8944 ...\n",
      " - attr(*, \"class\")= chr \"htest\"\n"
     ]
    }
   ],
   "source": [
    "str(test1)              # examine components of test object"
   ]
  },
  {
   "cell_type": "code",
   "execution_count": 35,
   "metadata": {},
   "outputs": [
    {
     "data": {
      "text/html": [
       "<style>\n",
       ".list-inline {list-style: none; margin:0; padding: 0}\n",
       ".list-inline>li {display: inline-block}\n",
       ".list-inline>li:not(:last-child)::after {content: \"\\00b7\"; padding: 0 .5ex}\n",
       "</style>\n",
       "<ol class=list-inline><li>-0.898146239020498</li><li>1.06144555520604</li><li>-0.408248290463863</li><li>0.0816496580927732</li><li>0.816496580927727</li><li>-0.65319726474218</li></ol>\n"
      ],
      "text/latex": [
       "\\begin{enumerate*}\n",
       "\\item -0.898146239020498\n",
       "\\item 1.06144555520604\n",
       "\\item -0.408248290463863\n",
       "\\item 0.0816496580927732\n",
       "\\item 0.816496580927727\n",
       "\\item -0.65319726474218\n",
       "\\end{enumerate*}\n"
      ],
      "text/markdown": [
       "1. -0.898146239020498\n",
       "2. 1.06144555520604\n",
       "3. -0.408248290463863\n",
       "4. 0.0816496580927732\n",
       "5. 0.816496580927727\n",
       "6. -0.65319726474218\n",
       "\n",
       "\n"
      ],
      "text/plain": [
       "[1] -0.89814624  1.06144556 -0.40824829  0.08164966  0.81649658 -0.65319726"
      ]
     },
     "metadata": {},
     "output_type": "display_data"
    }
   ],
   "source": [
    "test1$residuals"
   ]
  },
  {
   "cell_type": "code",
   "execution_count": null,
   "metadata": {},
   "outputs": [],
   "source": []
  }
 ],
 "metadata": {
  "celltoolbar": "Slideshow",
  "kernelspec": {
   "display_name": "R",
   "language": "R",
   "name": "ir"
  },
  "language_info": {
   "codemirror_mode": "r",
   "file_extension": ".r",
   "mimetype": "text/x-r-source",
   "name": "R",
   "pygments_lexer": "r",
   "version": "4.0.2"
  }
 },
 "nbformat": 4,
 "nbformat_minor": 2
}
