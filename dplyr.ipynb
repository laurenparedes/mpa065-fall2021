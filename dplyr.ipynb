{
 "cells": [
  {
   "cell_type": "markdown",
   "metadata": {
    "slideshow": {
     "slide_type": "slide"
    }
   },
   "source": [
    "<center><h1>Introduction to dplyr Package</h1></center>"
   ]
  },
  {
   "cell_type": "markdown",
   "metadata": {
    "slideshow": {
     "slide_type": "slide"
    }
   },
   "source": [
    "# 1. The _dplyr_ Package\n",
    "\n",
    "  - \"dplyr\" is short for \"data plyer\"\n",
    "  - R package for aggregating, summarizing, reshaping, and generally wrangling data\n",
    "  - Extremely popular in the R community\n",
    "  - Authored by Hadley Wickham\n",
    "  - Part of the \"tidyverse\" set of packages"
   ]
  },
  {
   "cell_type": "markdown",
   "metadata": {
    "slideshow": {
     "slide_type": "subslide"
    }
   },
   "source": [
    "## 1.1 The _dplyr_ \"Verbs\"\n",
    "\n",
    "  - The _dplyr_ package is organized around a set of \"verbs\", which are functions that operate on data\n",
    "    + `filter()`\n",
    "    + `summarise()`\n",
    "    + `select()`\n",
    "    + `mutate()`\n",
    "    + `arrange()`"
   ]
  },
  {
   "cell_type": "markdown",
   "metadata": {
    "slideshow": {
     "slide_type": "subslide"
    }
   },
   "source": [
    "## 1.2 The \"Pipe\" Operator\n",
    "\n",
    "  - Can be used to pipe some object into a function call\n",
    "  - `%>%`\n",
    "    + `x %>% f(y)` is the same as `f(x, y)`\n",
    "    "
   ]
  },
  {
   "cell_type": "markdown",
   "metadata": {
    "slideshow": {
     "slide_type": "slide"
    }
   },
   "source": [
    "# 2. `filter()` Examples with _dplyr_"
   ]
  },
  {
   "cell_type": "code",
   "execution_count": null,
   "metadata": {
    "slideshow": {
     "slide_type": "fragment"
    }
   },
   "outputs": [],
   "source": [
    "library(dplyr)           # load the package"
   ]
  },
  {
   "cell_type": "code",
   "execution_count": null,
   "metadata": {
    "slideshow": {
     "slide_type": "fragment"
    }
   },
   "outputs": [],
   "source": [
    "arrests_df <- read.csv(\"data/pvd_arrests_2021-10-03.csv\")"
   ]
  },
  {
   "cell_type": "code",
   "execution_count": null,
   "metadata": {
    "slideshow": {
     "slide_type": "fragment"
    }
   },
   "outputs": [],
   "source": [
    "arrests_df %>% \n",
    "    filter(gender == \"Male\") "
   ]
  },
  {
   "cell_type": "markdown",
   "metadata": {
    "slideshow": {
     "slide_type": "subslide"
    }
   },
   "source": [
    "### 2.1.1 Comparing `filter()` with Logical Indexing"
   ]
  },
  {
   "cell_type": "code",
   "execution_count": null,
   "metadata": {
    "slideshow": {
     "slide_type": "fragment"
    }
   },
   "outputs": [],
   "source": [
    "# dplyr approach\n",
    "arrests_df %>% \n",
    "    filter(gender == \"Male\")\n",
    "\n",
    "\n",
    "# \"base\" R approach\n",
    "is_male <- arrests_df$gender == \"Male\"      # create vector of bools\n",
    "\n",
    "arrests_df[is_male, ]                       # get male"
   ]
  },
  {
   "cell_type": "markdown",
   "metadata": {
    "slideshow": {
     "slide_type": "subslide"
    }
   },
   "source": [
    "## 2.2 `filter()` Examples (cont.)"
   ]
  },
  {
   "cell_type": "code",
   "execution_count": null,
   "metadata": {
    "slideshow": {
     "slide_type": "fragment"
    }
   },
   "outputs": [],
   "source": [
    "# Here we create a new data.frame from result of filter()\n",
    "\n",
    "arrests_males <- arrests_df %>%\n",
    "    filter(gender == \"Male\")                "
   ]
  },
  {
   "cell_type": "code",
   "execution_count": null,
   "metadata": {
    "slideshow": {
     "slide_type": "fragment"
    }
   },
   "outputs": [],
   "source": [
    "head(arrests_males)"
   ]
  },
  {
   "cell_type": "markdown",
   "metadata": {
    "slideshow": {
     "slide_type": "subslide"
    }
   },
   "source": [
    "## 2.2 Using `filter()` with Multiple Conditions"
   ]
  },
  {
   "cell_type": "code",
   "execution_count": null,
   "metadata": {
    "slideshow": {
     "slide_type": "fragment"
    }
   },
   "outputs": [],
   "source": [
    "arrests_teen_male <- arrests_df %>%\n",
    "    filter(\n",
    "        gender == \"Male\",\n",
    "        age < 20\n",
    "    )\n",
    "\n",
    "head(arrests_teen_male)"
   ]
  },
  {
   "cell_type": "markdown",
   "metadata": {
    "slideshow": {
     "slide_type": "subslide"
    }
   },
   "source": [
    "### 2.2.1 Using `filter()` with Logical OR\n",
    "\n",
    "  - Recall the `||` operator is the logical OR\n",
    "  - The `|` operator performs the same role, but elementwise for columns (or vectors)"
   ]
  },
  {
   "cell_type": "code",
   "execution_count": null,
   "metadata": {
    "slideshow": {
     "slide_type": "fragment"
    }
   },
   "outputs": [],
   "source": [
    "young_old_male <- arrests_df %>%\n",
    "    filter(\n",
    "        gender == \"Male\",\n",
    "        age < 25 | age > 65  \n",
    "    )\n",
    "\n",
    "head(young_old_male)"
   ]
  },
  {
   "cell_type": "markdown",
   "metadata": {
    "slideshow": {
     "slide_type": "subslide"
    }
   },
   "source": [
    "### 2.2.2 Using `filter()` with Logical OR (cont.)"
   ]
  },
  {
   "cell_type": "code",
   "execution_count": null,
   "metadata": {
    "slideshow": {
     "slide_type": "fragment"
    }
   },
   "outputs": [],
   "source": [
    "ptk_young_old_male <- arrests_df %>%\n",
    "    filter(\n",
    "        gender == \"Male\",\n",
    "        age < 25 | age > 65 | from_city == \"Pawtucket\"\n",
    "    )\n",
    "\n",
    "head(ptk_young_old_male)"
   ]
  },
  {
   "cell_type": "markdown",
   "metadata": {
    "slideshow": {
     "slide_type": "slide"
    }
   },
   "source": [
    "<center><h1>Using <code>select()</code> Function in dplyr</h1></center>"
   ]
  },
  {
   "cell_type": "markdown",
   "metadata": {
    "slideshow": {
     "slide_type": "slide"
    }
   },
   "source": [
    "# 3. Using `select()` to Extract Columns\n",
    "  - Recall that `filter()` can be used to filter rows\n",
    "  - Similarly, `select()` is used to select columns\n",
    "  - These functions can be \"chained\""
   ]
  },
  {
   "cell_type": "markdown",
   "metadata": {
    "slideshow": {
     "slide_type": "subslide"
    }
   },
   "source": [
    "## 3.1 Example of `select()`"
   ]
  },
  {
   "cell_type": "code",
   "execution_count": null,
   "metadata": {
    "slideshow": {
     "slide_type": "fragment"
    }
   },
   "outputs": [],
   "source": [
    "arrests_subset <- arrests_df %>% \n",
    "    select(id, age, gender, statute_desc)\n",
    "\n",
    "head(arrests_subset)"
   ]
  },
  {
   "cell_type": "markdown",
   "metadata": {
    "slideshow": {
     "slide_type": "subslide"
    }
   },
   "source": [
    "### 3.1.1 Comparing `select()` to `[, ]` notation"
   ]
  },
  {
   "cell_type": "code",
   "execution_count": null,
   "metadata": {
    "slideshow": {
     "slide_type": "fragment"
    }
   },
   "outputs": [],
   "source": [
    "# dplyr example\n",
    "arrests_df %>% \n",
    "    select(id, age, gender, statute_desc)\n",
    "\n",
    "\n",
    "# equivalent in \"base\" R example\n",
    "cols <- c(\"id\", \"age\", \"gender\", \"statute_desc\")\n",
    "\n",
    "arrests_df[, cols]"
   ]
  },
  {
   "cell_type": "markdown",
   "metadata": {
    "slideshow": {
     "slide_type": "subslide"
    }
   },
   "source": [
    "## 3.2 Example of `select()` (cont.)"
   ]
  },
  {
   "cell_type": "code",
   "execution_count": null,
   "metadata": {
    "slideshow": {
     "slide_type": "fragment"
    }
   },
   "outputs": [],
   "source": [
    "arrests_vio <- arrests_df %>%\n",
    "    select(\n",
    "        id,\n",
    "        age,\n",
    "        gender,\n",
    "        statute_desc\n",
    "    )"
   ]
  },
  {
   "cell_type": "code",
   "execution_count": null,
   "metadata": {
    "slideshow": {
     "slide_type": "fragment"
    }
   },
   "outputs": [],
   "source": [
    "head(arrests_vio)           # see first few lines of new dataframe"
   ]
  },
  {
   "cell_type": "markdown",
   "metadata": {
    "slideshow": {
     "slide_type": "slide"
    }
   },
   "source": [
    "# 4. Chaining _dplyr_ Operators\n",
    "  - One key reason for _dplyr_ popularity\n",
    "  - _dplyr_ verbs/functions are \"composable\"\n",
    "    + $(f \\circ g)(x) == f(g(x))$"
   ]
  },
  {
   "cell_type": "code",
   "execution_count": null,
   "metadata": {
    "slideshow": {
     "slide_type": "fragment"
    }
   },
   "outputs": [],
   "source": [
    "female_vio <- arrests_df %>%\n",
    "    filter(gender == \"Female\") %>%\n",
    "    select(id, age, gender, statute_desc)\n",
    "\n",
    "head(female_vio)"
   ]
  },
  {
   "cell_type": "markdown",
   "metadata": {
    "slideshow": {
     "slide_type": "subslide"
    }
   },
   "source": [
    "## 4.1 More Chaining"
   ]
  },
  {
   "cell_type": "code",
   "execution_count": null,
   "metadata": {
    "slideshow": {
     "slide_type": "fragment"
    }
   },
   "outputs": [],
   "source": [
    "female_midage <- arrests_df %>%\n",
    "    filter(\n",
    "        gender == \"Female\",\n",
    "        age > 45,\n",
    "        statute_desc != \"\"\n",
    "    ) %>%\n",
    "    select(\n",
    "        id, \n",
    "        age, \n",
    "        gender,\n",
    "        statute_desc\n",
    "    ) %>%\n",
    "    arrange(\n",
    "        id\n",
    "    )\n",
    "\n",
    "head(female_midage)"
   ]
  },
  {
   "cell_type": "markdown",
   "metadata": {
    "slideshow": {
     "slide_type": "slide"
    }
   },
   "source": [
    "<center><h1>Using <code>group_by()</code> and <code>summarise()</code> in dplyr</h1></center>"
   ]
  },
  {
   "cell_type": "markdown",
   "metadata": {
    "slideshow": {
     "slide_type": "slide"
    }
   },
   "source": [
    "# 5. Why use `group_by()` and `summarise()` from _dplyr_?\n",
    "  - Being able to aggregate and summarize by grouping is hugely common\n",
    "  - _split-apply-combine_ pattern\n",
    "  - These operations can be \"chained\" with other _dplyr_ functions\n",
    "  - Often makes for concise, intuitive, and readable code"
   ]
  },
  {
   "cell_type": "markdown",
   "metadata": {
    "slideshow": {
     "slide_type": "subslide"
    }
   },
   "source": [
    "## 5.1 Example of `group_by()` and `summarise()`"
   ]
  },
  {
   "cell_type": "code",
   "execution_count": null,
   "metadata": {
    "slideshow": {
     "slide_type": "fragment"
    }
   },
   "outputs": [],
   "source": [
    "gender_tbl <- arrests_df %>%\n",
    "    group_by(gender) %>%\n",
    "    summarise(\n",
    "        n_rows = n(),\n",
    "        mean_age = mean(age)\n",
    "    ) \n",
    "\n",
    "head(gender_tbl)"
   ]
  },
  {
   "cell_type": "markdown",
   "metadata": {
    "slideshow": {
     "slide_type": "subslide"
    }
   },
   "source": [
    "# 6. Chaining `filter()` with `group_by()` and `summarise()`"
   ]
  },
  {
   "cell_type": "code",
   "execution_count": null,
   "metadata": {
    "slideshow": {
     "slide_type": "fragment"
    }
   },
   "outputs": [],
   "source": [
    "gender_tbl <- arrests_df %>%\n",
    "    filter(\n",
    "        from_city == \"Providence\",\n",
    "        year == 2019\n",
    "    ) %>%\n",
    "    group_by(gender) %>%\n",
    "    summarise(\n",
    "        n_rows = n(),\n",
    "        mean_age = mean(age),\n",
    "        mean_cnts = mean(counts, na.rm = TRUE)\n",
    "    ) \n",
    "\n",
    "head(gender_tbl)"
   ]
  },
  {
   "cell_type": "markdown",
   "metadata": {
    "slideshow": {
     "slide_type": "subslide"
    }
   },
   "source": [
    "## 6.1 More Interesting Example of Chaining"
   ]
  },
  {
   "cell_type": "code",
   "execution_count": null,
   "metadata": {
    "slideshow": {
     "slide_type": "fragment"
    }
   },
   "outputs": [],
   "source": [
    "is_summer <- function(month_num) {\n",
    "    chk <- month_num %in% c(6, 7, 8)\n",
    "    return(chk)\n",
    "}"
   ]
  },
  {
   "cell_type": "code",
   "execution_count": null,
   "metadata": {
    "slideshow": {
     "slide_type": "fragment"
    }
   },
   "outputs": [],
   "source": [
    "is_summer(6)   # TRUE\n",
    "is_summer(2)   # FALSE\n",
    "is_summer(8)   # TRUE\n"
   ]
  },
  {
   "cell_type": "markdown",
   "metadata": {
    "slideshow": {
     "slide_type": "subslide"
    }
   },
   "source": [
    "### 6.1.1 More Interesting Example (cont.)"
   ]
  },
  {
   "cell_type": "code",
   "execution_count": null,
   "metadata": {
    "slideshow": {
     "slide_type": "fragment"
    }
   },
   "outputs": [],
   "source": [
    "vio_tbl <- arrests_df %>%\n",
    "    filter(\n",
    "        statute_desc != \"\",\n",
    "        statute_desc != \"NULL\", \n",
    "        year == 2021\n",
    "    ) %>%\n",
    "    group_by(statute_desc) %>%\n",
    "    summarise(\n",
    "        n_vios = n(),\n",
    "        prop_male = mean(gender == \"Male\"),\n",
    "        mean_age = mean(age),\n",
    "        prop_summer = mean(is_summer(month))\n",
    "    ) %>%\n",
    "    arrange(desc(n_vios))\n",
    "\n",
    "head(vio_tbl, 10)"
   ]
  }
 ],
 "metadata": {
  "@webio": {
   "lastCommId": null,
   "lastKernelId": null
  },
  "celltoolbar": "Slideshow",
  "kernelspec": {
   "display_name": "R",
   "language": "R",
   "name": "ir"
  },
  "language_info": {
   "codemirror_mode": "r",
   "file_extension": ".r",
   "mimetype": "text/x-r-source",
   "name": "R",
   "pygments_lexer": "r",
   "version": "4.0.2"
  }
 },
 "nbformat": 4,
 "nbformat_minor": 2
}
