{
 "cells": [
  {
   "cell_type": "markdown",
   "metadata": {
    "slideshow": {
     "slide_type": "slide"
    }
   },
   "source": [
    "<center><h1>The Binomial Test and Categorical Data</h1></center>"
   ]
  },
  {
   "cell_type": "markdown",
   "metadata": {
    "slideshow": {
     "slide_type": "subslide"
    }
   },
   "source": [
    "# 1. Categorical Data\n",
    "\n",
    "  - Variables representing group members \n",
    "  - Examples: \n",
    "    + Political party affiliation\n",
    "    + City of origin\n",
    "    + Gender\n",
    "    + Ethnicity"
   ]
  },
  {
   "cell_type": "markdown",
   "metadata": {
    "slideshow": {
     "slide_type": "slide"
    }
   },
   "source": [
    "# 2. The Binomial Test\n",
    "  - Probably the most basic example of a hypothesis tests (and very useful)\n",
    "  - Used to compare distribution of observations in two categories against theoretical distribution\n",
    "  - Essentially, we use the binomial test when we have a problem that can be expressed in terms of \"successes\" and \"failures\""
   ]
  },
  {
   "cell_type": "markdown",
   "metadata": {
    "slideshow": {
     "slide_type": "subslide"
    }
   },
   "source": [
    "## 2.1 Binomial Test Examples\n",
    "\n",
    "Example questions we can answer:\n",
    "  - Given $N$ tosses of a coin, $X_1, X_2, ..., X_n$, where $X_i = 1$ denotes heads and $X_i = 0$ is tails, is this a fair coin?\n",
    "  - Given the counts of females and males in a particular class, are there significantly more females than males?\n",
    "  - Suppose we are doing quality control on a medical device known to have a 0.001\\%  failure rate. Given the number of failures in a specific batch and the batch size, does this batch have significantly more failures than we expect?"
   ]
  },
  {
   "cell_type": "markdown",
   "metadata": {
    "slideshow": {
     "slide_type": "subslide"
    }
   },
   "source": [
    "### 2.1.1 Review Binomial Distribution\n",
    "\n",
    "1. Discrete probability distribution\n",
    "2. Has two parameter\n",
    "  - $n$: number of \"trials\"\n",
    "  - $p$: probability of \"success\" for a given trial\n",
    "  \n",
    "\n",
    "\n",
    "<center><img src=\"images/binomial_distribution_pmf.png\" width=\"700\"></center>\n",
    "\n",
    "[1.] Image source: wikipedia.org"
   ]
  },
  {
   "cell_type": "markdown",
   "metadata": {
    "slideshow": {
     "slide_type": "subslide"
    }
   },
   "source": [
    "## 2.2 Binomial Test\n",
    "\n",
    "<center><img src=\"images/binomial_plot.png\" width=\"700\"></center>\n",
    "\n",
    "\n",
    "\n"
   ]
  },
  {
   "cell_type": "markdown",
   "metadata": {
    "slideshow": {
     "slide_type": "subslide"
    }
   },
   "source": [
    "## 2.3 Binomial Test: Coin Toss Example\n",
    "\n",
    "Suppose we have the following data after tossing a coin several times:\n",
    "\n",
    "[H, T, T, T, H, H, T, H, T, T, H, T, T, T, T]\n",
    "\n",
    "Is this a fair coin?"
   ]
  },
  {
   "cell_type": "markdown",
   "metadata": {
    "slideshow": {
     "slide_type": "subslide"
    }
   },
   "source": [
    "### 2.3.1 Data Generation"
   ]
  },
  {
   "cell_type": "code",
   "execution_count": 2,
   "metadata": {
    "slideshow": {
     "slide_type": "fragment"
    }
   },
   "outputs": [
    {
     "name": "stdout",
     "output_type": "stream",
     "text": [
      "[1] 15\n",
      "[1] 5\n"
     ]
    }
   ],
   "source": [
    "# create variable to store data\n",
    "coin_tosses <- c(\"H\", \"T\", \"T\", \"T\", \"H\", \"H\", \"T\", \"H\", \"T\", \"T\", \"H\", \n",
    "                 \"T\", \"T\", \"T\", \"T\")\n",
    "\n",
    "# get number of tosses\n",
    "n_tosses <- length(coin_tosses)\n",
    "\n",
    "# get number of heads\n",
    "n_heads <- sum(coin_tosses == \"H\")\n",
    "\n",
    "# print variables we created to check sanity\n",
    "print(n_tosses)\n",
    "print(n_heads)"
   ]
  },
  {
   "cell_type": "markdown",
   "metadata": {
    "slideshow": {
     "slide_type": "subslide"
    }
   },
   "source": [
    "### 2.3.2 Using `binom.test()`"
   ]
  },
  {
   "cell_type": "code",
   "execution_count": 4,
   "metadata": {
    "slideshow": {
     "slide_type": "fragment"
    }
   },
   "outputs": [
    {
     "name": "stdout",
     "output_type": "stream",
     "text": [
      "\n",
      "\tExact binomial test\n",
      "\n",
      "data:  n_heads and n_tosses\n",
      "number of successes = 5, number of trials = 15, p-value = 0.3018\n",
      "alternative hypothesis: true probability of success is not equal to 0.5\n",
      "95 percent confidence interval:\n",
      " 0.1182411 0.6161963\n",
      "sample estimates:\n",
      "probability of success \n",
      "             0.3333333 \n",
      "\n"
     ]
    }
   ],
   "source": [
    "# run binomial test on coin toss data\n",
    "\n",
    "bin_test1 <- binom.test(n_heads, n_tosses)\n",
    "\n",
    "print(bin_test1)"
   ]
  },
  {
   "cell_type": "markdown",
   "metadata": {
    "slideshow": {
     "slide_type": "subslide"
    }
   },
   "source": [
    "## 2.4 Binomial Test: Device Defects Examples\n",
    "\n",
    "Suppose we are doing quality control for a medical device known to have a 0.0001% failure rate. We are given a batch of 250000 to be tested. Of these, we find 17 defective devices. Does this batch have a significantly higher failure rate than our known failure rate?"
   ]
  },
  {
   "cell_type": "code",
   "execution_count": 8,
   "metadata": {
    "slideshow": {
     "slide_type": "fragment"
    }
   },
   "outputs": [],
   "source": [
    "# specify our inputs\n",
    "\n",
    "p_failure <- 0.0001      # a-priori known failure rate\n",
    "\n",
    "n_trials <- 250000        # number of devices produced\n",
    "\n",
    "n_defectives <- 17        # number of defective devices"
   ]
  },
  {
   "cell_type": "markdown",
   "metadata": {
    "slideshow": {
     "slide_type": "subslide"
    }
   },
   "source": [
    "### 2.4.1 Device Defects Example (cont.)"
   ]
  },
  {
   "cell_type": "code",
   "execution_count": 9,
   "metadata": {
    "slideshow": {
     "slide_type": "fragment"
    }
   },
   "outputs": [
    {
     "name": "stdout",
     "output_type": "stream",
     "text": [
      "\n",
      "\tExact binomial test\n",
      "\n",
      "data:  n_defectives and n_trials\n",
      "number of successes = 17, number of trials = 250000, p-value =\n",
      "1.557e-09\n",
      "alternative hypothesis: true probability of success is greater than 1e-05\n",
      "95 percent confidence interval:\n",
      " 4.332901e-05 1.000000e+00\n",
      "sample estimates:\n",
      "probability of success \n",
      "               6.8e-05 \n",
      "\n"
     ]
    }
   ],
   "source": [
    "# run binomial test on medical device data\n",
    "\n",
    "test2 <- binom.test(n_defectives, n_trials, p = p_failure, alternative = \"greater\")\n",
    "\n",
    "print(test2)"
   ]
  }
 ],
 "metadata": {
  "@webio": {
   "lastCommId": null,
   "lastKernelId": null
  },
  "celltoolbar": "Slideshow",
  "kernelspec": {
   "display_name": "R",
   "language": "R",
   "name": "ir"
  },
  "language_info": {
   "codemirror_mode": "r",
   "file_extension": ".r",
   "mimetype": "text/x-r-source",
   "name": "R",
   "pygments_lexer": "r",
   "version": "4.0.2"
  }
 },
 "nbformat": 4,
 "nbformat_minor": 2
}
