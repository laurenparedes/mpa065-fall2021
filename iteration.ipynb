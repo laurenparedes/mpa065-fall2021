{
 "cells": [
  {
   "cell_type": "markdown",
   "metadata": {
    "slideshow": {
     "slide_type": "slide"
    }
   },
   "source": [
    "<center><h1>Iteration using Loops in R</h1></center>\n",
    "<center><h3>Paul Stey</h3></center>\n",
    "<center><h3>2021-09-27</h3></center>"
   ]
  },
  {
   "cell_type": "markdown",
   "metadata": {
    "slideshow": {
     "slide_type": "slide"
    }
   },
   "source": [
    "# 1. Iteration?\n",
    "\n",
    " - What is iteration?\n",
    " - It is often important to repeat some operation many times\n",
    " - There are many methods of completing tasks that require iteration\n",
    "   + but looping is often the most intuitive\n",
    " - _caveat emptor_\n",
    "   + R is known as  \"slow\" language when it comes to loops"
   ]
  },
  {
   "cell_type": "markdown",
   "metadata": {
    "slideshow": {
     "slide_type": "subslide"
    }
   },
   "source": [
    "## 1.1 The `for` Loop"
   ]
  },
  {
   "cell_type": "code",
   "execution_count": 1,
   "metadata": {
    "slideshow": {
     "slide_type": "fragment"
    }
   },
   "outputs": [
    {
     "name": "stdout",
     "output_type": "stream",
     "text": [
      "[1] 1\n",
      "[1] 2\n",
      "[1] 3\n",
      "[1] 4\n",
      "[1] 5\n"
     ]
    }
   ],
   "source": [
    "for (i in 1:5) {\n",
    "    print(i)               # this code block is executed for each iteration\n",
    "}\n"
   ]
  },
  {
   "cell_type": "code",
   "execution_count": 2,
   "metadata": {
    "slideshow": {
     "slide_type": "fragment"
    }
   },
   "outputs": [
    {
     "name": "stdout",
     "output_type": "stream",
     "text": [
      "[1] 1\n",
      "[1] 4\n",
      "[1] 9\n",
      "[1] 16\n",
      "[1] 25\n"
     ]
    }
   ],
   "source": [
    "for (i in 1:5) {\n",
    "    i2 <- i*i             # this code block is executed for each iteration\n",
    "    print(i2)\n",
    "}"
   ]
  },
  {
   "cell_type": "markdown",
   "metadata": {
    "slideshow": {
     "slide_type": "subslide"
    }
   },
   "source": [
    "### 1.1.1 Counting Down using `for` Loop "
   ]
  },
  {
   "cell_type": "code",
   "execution_count": 3,
   "metadata": {
    "slideshow": {
     "slide_type": "fragment"
    }
   },
   "outputs": [
    {
     "name": "stdout",
     "output_type": "stream",
     "text": [
      "[1] 5\n",
      "[1] 4\n",
      "[1] 3\n",
      "[1] 2\n",
      "[1] 1\n",
      "[1] 0\n",
      "[1] -1\n",
      "[1] -2\n",
      "[1] -3\n",
      "[1] -4\n",
      "[1] -5\n"
     ]
    }
   ],
   "source": [
    "for (j in 5:-5) {\n",
    "    print(j)\n",
    "}"
   ]
  },
  {
   "cell_type": "markdown",
   "metadata": {
    "slideshow": {
     "slide_type": "subslide"
    }
   },
   "source": [
    "### 1.1.2 Range-based `for` Loop"
   ]
  },
  {
   "cell_type": "code",
   "execution_count": 4,
   "metadata": {
    "slideshow": {
     "slide_type": "fragment"
    }
   },
   "outputs": [
    {
     "name": "stdout",
     "output_type": "stream",
     "text": [
      "[1] \"cat\"\n",
      "[1] \"dog\"\n",
      "[1] \"bird\"\n",
      "[1] \"fish\"\n"
     ]
    }
   ],
   "source": [
    "animals <- c(\"cat\", \"dog\", \"bird\", \"fish\")\n",
    "\n",
    "for (a in animals) {\n",
    "    print(a)\n",
    "}"
   ]
  },
  {
   "cell_type": "markdown",
   "metadata": {
    "slideshow": {
     "slide_type": "subslide"
    }
   },
   "source": [
    "## 1.2. Example: Printing Even Numbers\n",
    "\n",
    " - Demonstrate use of function and `if` statement in loop"
   ]
  },
  {
   "cell_type": "code",
   "execution_count": 5,
   "metadata": {
    "slideshow": {
     "slide_type": "fragment"
    }
   },
   "outputs": [],
   "source": [
    "is_even <- function(m) {\n",
    "    ans <- m %% 2 == 0             # if m/2 has remainder 0, then m is even\n",
    "    return(ans)\n",
    "}"
   ]
  },
  {
   "cell_type": "code",
   "execution_count": 6,
   "metadata": {
    "slideshow": {
     "slide_type": "fragment"
    }
   },
   "outputs": [
    {
     "name": "stdout",
     "output_type": "stream",
     "text": [
      "[1] 2\n",
      "[1] 4\n",
      "[1] 6\n",
      "[1] 8\n",
      "[1] 10\n",
      "[1] 12\n",
      "[1] 14\n",
      "[1] 16\n"
     ]
    }
   ],
   "source": [
    "max_num <- 16\n",
    "\n",
    "for (n in 1:max_num) {\n",
    "    if (is_even(n)) {              # this entire block is execute each iteration\n",
    "        print(n)\n",
    "    }\n",
    "}"
   ]
  },
  {
   "cell_type": "markdown",
   "metadata": {
    "slideshow": {
     "slide_type": "subslide"
    }
   },
   "source": [
    "### 1.3 Example: Function to Sum Even Numbers\n",
    "\n",
    "  - Demonstrate loop inside of function"
   ]
  },
  {
   "cell_type": "code",
   "execution_count": 10,
   "metadata": {
    "slideshow": {
     "slide_type": "fragment"
    }
   },
   "outputs": [],
   "source": [
    "# This function has a single parameter, `max_num`. The function iterates from 1 \n",
    "# to `max_num` and takes the sum of all the even values between 1 and `max_num`.\n",
    "\n",
    "sum_even_nums <- function(max_num) {\n",
    "    res <- 0\n",
    "    for (n in 1:max_num) {\n",
    "        if (is_even(n)) {\n",
    "            res <- res + n\n",
    "        }\n",
    "    }\n",
    "    return(res)\n",
    "}"
   ]
  },
  {
   "cell_type": "code",
   "execution_count": 11,
   "metadata": {
    "slideshow": {
     "slide_type": "fragment"
    }
   },
   "outputs": [
    {
     "data": {
      "text/html": [
       "12"
      ],
      "text/latex": [
       "12"
      ],
      "text/markdown": [
       "12"
      ],
      "text/plain": [
       "[1] 12"
      ]
     },
     "metadata": {},
     "output_type": "display_data"
    }
   ],
   "source": [
    "sum_even_nums(6)                      # sum of 2, 4, 6 "
   ]
  },
  {
   "cell_type": "markdown",
   "metadata": {
    "slideshow": {
     "slide_type": "slide"
    }
   },
   "source": [
    "# 2. The `while` Loop\n",
    "\n",
    "  - The second way to iterate is using a `while` loop\n",
    "  - Very similar to `for` loop, but without pre-defined stopping point"
   ]
  },
  {
   "cell_type": "code",
   "execution_count": null,
   "metadata": {
    "slideshow": {
     "slide_type": "fragment"
    }
   },
   "outputs": [],
   "source": [
    "m <- 10\n",
    "\n",
    "while (m > 0) {\n",
    "    print(m) \n",
    "    m <- m - 1\n",
    "} "
   ]
  },
  {
   "cell_type": "markdown",
   "metadata": {
    "slideshow": {
     "slide_type": "subslide"
    }
   },
   "source": [
    "## 2.1 Another `while` Loop Example\n",
    "\n",
    "  - Introduce random component"
   ]
  },
  {
   "cell_type": "code",
   "execution_count": null,
   "metadata": {
    "slideshow": {
     "slide_type": "fragment"
    }
   },
   "outputs": [],
   "source": [
    "m <- 1\n",
    "\n",
    "while (m > 0) {\n",
    "    print(m) \n",
    "    m <- m - sample(-1:1, 1)\n",
    "}"
   ]
  },
  {
   "cell_type": "markdown",
   "metadata": {
    "slideshow": {
     "slide_type": "subslide"
    }
   },
   "source": [
    "# 3. Early Exits using `break`\n",
    "\n",
    "  - In some cases, it's important to be able to exit a loop \"early\"\n",
    "  - The `break` keyword allows us to exit a loop at will"
   ]
  },
  {
   "cell_type": "code",
   "execution_count": null,
   "metadata": {
    "slideshow": {
     "slide_type": "fragment"
    }
   },
   "outputs": [],
   "source": [
    "m <- 5\n",
    "\n",
    "while (m > 0) {\n",
    "    print(m) \n",
    "    m <- m - sample(-2:2, 1)\n",
    "    \n",
    "    if (m > 6) {\n",
    "        print(\"uh, oh... exiting\")\n",
    "        break\n",
    "    }\n",
    "}"
   ]
  }
 ],
 "metadata": {
  "@webio": {
   "lastCommId": null,
   "lastKernelId": null
  },
  "celltoolbar": "Slideshow",
  "kernelspec": {
   "display_name": "R",
   "language": "R",
   "name": "ir"
  },
  "language_info": {
   "codemirror_mode": "r",
   "file_extension": ".r",
   "mimetype": "text/x-r-source",
   "name": "R",
   "pygments_lexer": "r",
   "version": "4.0.5"
  }
 },
 "nbformat": 4,
 "nbformat_minor": 4
}
