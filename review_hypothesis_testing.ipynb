{
 "cells": [
  {
   "cell_type": "markdown",
   "metadata": {
    "slideshow": {
     "slide_type": "slide"
    }
   },
   "source": [
    "<center><h1>Review Basics of Hypothesis Testing</h1></center>"
   ]
  },
  {
   "cell_type": "markdown",
   "metadata": {
    "slideshow": {
     "slide_type": "slide"
    }
   },
   "source": [
    "# 1. Resources \n",
    " - Discovering Statistics using R, Field, A. _et al_., 2012\n",
    " - Statistical Rethinking, McElreath, R., 2015\n",
    " - All of Statistics, Wasserman, L., 2004"
   ]
  },
  {
   "cell_type": "markdown",
   "metadata": {
    "slideshow": {
     "slide_type": "subslide"
    }
   },
   "source": [
    "## 1.1 Review of Core Concepts\n",
    "\t\n",
    "- Bayesians, Frequentists, and Likelihoodists\n",
    "- There are a few approaches to statistical inference:\n",
    "    - Bayesian\n",
    "    - Likelihoodist\n",
    "    - Frequentist\n",
    "\n",
    "We will be concerned primarily with the frequentist approach."
   ]
  },
  {
   "cell_type": "markdown",
   "metadata": {
    "slideshow": {
     "slide_type": "subslide"
    }
   },
   "source": [
    "### 1.1.1 What is hypothesis testing?\n",
    "<br>\n",
    "<br>\n",
    "<center>Hypothesis testing is the process of using data to make decisions under uncertainty.</center>\n"
   ]
  },
  {
   "cell_type": "markdown",
   "metadata": {
    "slideshow": {
     "slide_type": "subslide"
    }
   },
   "source": [
    "### 1.1.2 What is hypothesis testing? (cont.)\n",
    "\t\n",
    "The frequentist approach is typically choosing between 2 competing hypotheses.\n",
    "\n",
    "  - Null hypothesis (usually written $H_0$)\n",
    "  - Alternative hypothesis (usually written $H_1$ or sometimes $H_A$)"
   ]
  },
  {
   "cell_type": "markdown",
   "metadata": {
    "slideshow": {
     "slide_type": "subslide"
    }
   },
   "source": [
    "### 1.1.3 What is hypothesis testing? (cont.)\n",
    "\n",
    "For example, we might be interested in whether some new medication, $M$, reduces cholesterol. Here the competing hypotheses are:\n",
    "\n",
    "<center>\n",
    "<br>\n",
    "\n",
    "  $H_0$: $\\mu_{1} = \\mu_{2}$ $M$ does not reduce cholesterol (null hypothesis)\n",
    "  \n",
    "  $H_1$: $\\mu_{1} < \\mu_{2}$ $M$ reduces cholesterol (alternative hypothesis)\n",
    "\n",
    "<br>\n",
    "</center>\n",
    "\n",
    "where $\\mu_1$ is mean cholesterol for those receiving $M$ in the population, and $\\mu_2$ is mean cholesterol for those _not_ receiving $M$ in the population."
   ]
  },
  {
   "cell_type": "markdown",
   "metadata": {
    "slideshow": {
     "slide_type": "subslide"
    }
   },
   "source": [
    "### 1.1.4 Notes on hypothesis testing\n",
    "\n",
    "Some important things to note:\n",
    "\n",
    "1. Previous example is one-sided test; two-sided tests generally look like:\n",
    "\n",
    "  - $H_0$: $\\mu_{1} = \\mu_{2}$\n",
    "  - $H_1$: $\\mu_{1} \\ne \\mu_{2}$\n",
    "\n",
    "2. Two-sided tests tend to be more common\n",
    "3. You should clearly articulate hypotheses _priori to conducting statistical tests_"
   ]
  },
  {
   "cell_type": "markdown",
   "metadata": {
    "slideshow": {
     "slide_type": "subslide"
    }
   },
   "source": [
    "### 1.1.5 Notes on Hypothesis Testing (cont.)\n",
    "\n",
    "General process of hypothesis testing:\n",
    "\n",
    "1. Specify the null and alternative hypotheses, $H_0$ and $H_1$\n",
    "2. Determine the test to be used, which gives us:\n",
    "\n",
    "  - Our test statistic\n",
    "  - Corresponding probability distribution \n",
    "\n",
    "3. Set a level of significance (e.g., $\\alpha = 0.05$)\n",
    "4. Use our data to compute our test statistic (and perhaps its standard error)\n",
    "5. Use test statistic and its accompanying distribution to obtain _p_-value\n"
   ]
  },
  {
   "cell_type": "markdown",
   "metadata": {
    "slideshow": {
     "slide_type": "slide"
    }
   },
   "source": [
    "# 2. Review of _p_-values\n",
    "\n",
    "<br>\n",
    "<br>\n",
    "<center>What is a <i>p</i>-value?</center>\n"
   ]
  },
  {
   "cell_type": "markdown",
   "metadata": {
    "slideshow": {
     "slide_type": "subslide"
    }
   },
   "source": [
    "## 2.1. Understanding _p_-values\n",
    "\n",
    "A <i>p</i>-value is a probability. In particular, it is the probability of finding data <i>as extreme or more extreme</i> than what he have observed, given that the null hypothesis is true."
   ]
  },
  {
   "cell_type": "markdown",
   "metadata": {
    "slideshow": {
     "slide_type": "subslide"
    }
   },
   "source": [
    "### 2.1.1 Understanding _p_-values (cont.)\n",
    "\n",
    "In other words, a _p_-value can be used to answer this question:\n",
    "\n",
    "<br>\n",
    "\n",
    "  <center><i>If the null hypothesis is true, are my data unusual?</i></center>\n",
    "\n",
    "<br>\n",
    "When a p-value is small, our answer is \"yes\". And when the answer is \"yes\", we are generally inclined to take this as evidence against the null hypothesis.\n",
    "\t\t\t"
   ]
  },
  {
   "cell_type": "markdown",
   "metadata": {
    "slideshow": {
     "slide_type": "subslide"
    }
   },
   "source": [
    "### 2.1.2 Understanding _p_-values (cont.)\n",
    "\n",
    "A _p_-value is **NOT**:\n",
    "\n",
    "  - The probability the null hypothesis is true\n",
    "  - The probability that the data were produced by chance alone\n",
    "  - A measure of effect size\n",
    "     + Be wary of papers discussing \"highly\" or \"extremely\" significant results based _p_-values\n",
    "     + Also beware of studies using _p_-values as inputs to subsequent computations or tests\n"
   ]
  },
  {
   "cell_type": "markdown",
   "metadata": {
    "slideshow": {
     "slide_type": "subslide"
    }
   },
   "source": [
    "### 2.1.3 Understanding _p_-values (cont.)\n",
    "\n",
    "Other notes on _p_-values:\n",
    "\n",
    "1. Their use is controversial in some circles\n",
    "2. Can be easily abused to show significant results\n",
    "3. Despite limitations, they are ubiquitous in science\n",
    "  - We have used them for so long, it's hard to change course (but Bayesians are trying!)\n",
    "  - For many applied researchers and practitioners, they are a convenient way to turn observed data in to a \"yes\"/\"no\" decision"
   ]
  },
  {
   "cell_type": "markdown",
   "metadata": {
    "slideshow": {
     "slide_type": "slide"
    }
   },
   "source": [
    "# 3. The Decision Problem\n",
    "\n",
    "<br>\n",
    "\n",
    "<center>Ultimately, we want to be able to draw conclusions and make decisions based on data</center>\n",
    "\n"
   ]
  },
  {
   "cell_type": "markdown",
   "metadata": {
    "slideshow": {
     "slide_type": "subslide"
    }
   },
   "source": [
    "\n",
    "## 3.1 Deciding between $H_0$ and $H_1$\n",
    "<br>\n",
    "\t\t<center>So, how do we choose between our hypotheses?</center>\n",
    "<br>\n",
    "\n",
    "1. Our default is to believe $H_0$\n",
    "\n",
    "2. We use our data to determine if we have sufficient reason to reject $H_0$ \n",
    "\n",
    "3. This is where we rely on work from probability theory"
   ]
  },
  {
   "cell_type": "markdown",
   "metadata": {
    "slideshow": {
     "slide_type": "subslide"
    }
   },
   "source": [
    "### 3.1.1 Deciding between $H_0$ and $H_1$ (cont.)\n",
    "<br>\n",
    "<center>Because we are relying on probabilistic reasoning about whether or not to reject $H_0$, we can be wrong.</center>\n",
    "\n",
    "![image](images/error_types.png)"
   ]
  },
  {
   "cell_type": "markdown",
   "metadata": {
    "slideshow": {
     "slide_type": "subslide"
    }
   },
   "source": [
    "### 3.1.2 Deciding between $H_0$ and $H_1$ (cont.)\n",
    "\n",
    "\n",
    "<br>\n",
    "\n",
    "Question:\n",
    "\n",
    "<br>\n",
    "\n",
    "<center>How do we know when we have committed a Type I error or a Type II error?</center>\n",
    "\n",
    "<br>"
   ]
  },
  {
   "cell_type": "markdown",
   "metadata": {
    "slideshow": {
     "slide_type": "subslide"
    }
   },
   "source": [
    "### 3.1.3 Deciding between $H_0$ and $H_1$ (cont.)\n",
    "\n",
    "<br>\n",
    "\n",
    "Answer: \n",
    "<br>\n",
    "\n",
    "<center>In general, we cannot <i>know</i> unequivocally when we have committed a Type I error or a Type II error.</center>\n",
    "\n",
    "<br>\n",
    "\n",
    "This has important implications:\n",
    "\n",
    "1. Replication is _absolutely crucial_ in science\n",
    "2. Must be _hyper vigilant_ about inflated Type I error from repeated testing (more on this later)\n",
    "3. Should be generally skeptical, and especially so for low power studies with \"sexy\" results"
   ]
  }
 ],
 "metadata": {
  "celltoolbar": "Slideshow",
  "kernelspec": {
   "display_name": "R",
   "language": "R",
   "name": "ir"
  },
  "language_info": {
   "codemirror_mode": "r",
   "file_extension": ".r",
   "mimetype": "text/x-r-source",
   "name": "R",
   "pygments_lexer": "r",
   "version": "4.0.2"
  }
 },
 "nbformat": 4,
 "nbformat_minor": 2
}
