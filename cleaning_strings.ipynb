{
 "cells": [
  {
   "cell_type": "markdown",
   "metadata": {
    "slideshow": {
     "slide_type": "slide"
    }
   },
   "source": [
    "<center><h1>Cleaning String Data in R</h1></center>"
   ]
  },
  {
   "cell_type": "markdown",
   "metadata": {
    "slideshow": {
     "slide_type": "slide"
    }
   },
   "source": [
    "# 1. What is Data Cleaning?\n",
    "  - No uniform definition \"data cleaning\"\n",
    "  - Roughly speaking, refers to exploring the idiosyncrasies of a data set, and then addressing them in a principled manner so as to allow for data analysis"
   ]
  },
  {
   "cell_type": "markdown",
   "metadata": {
    "slideshow": {
     "slide_type": "subslide"
    }
   },
   "source": [
    "## 1.1 Examples of Data Cleaning\n",
    "\n",
    "  - Recoding `\"NULL\"`, `\" \"`, `\"\"`, to be `NA`\n",
    "  - Eliminating duplicate entries\n",
    "  - Ensure numeric data is being treated as numerics (e.g., `\"2\" + 2 != 4`)\n",
    "  - Treating dates or timestamps as `Date` or `POSIXct` data type "
   ]
  },
  {
   "cell_type": "markdown",
   "metadata": {
    "slideshow": {
     "slide_type": "slide"
    }
   },
   "source": [
    "# 2. Cleaning Strings\n",
    "\n",
    "  - Parsing/cleaning/extracting info from strings is extremely common\n",
    "  - Parsing timestamp strings is a great example"
   ]
  },
  {
   "cell_type": "markdown",
   "metadata": {
    "slideshow": {
     "slide_type": "subslide"
    }
   },
   "source": [
    "## 2.1 Errors in our `officer_cnt`"
   ]
  },
  {
   "cell_type": "code",
   "execution_count": 1,
   "metadata": {
    "slideshow": {
     "slide_type": "fragment"
    }
   },
   "outputs": [
    {
     "name": "stderr",
     "output_type": "stream",
     "text": [
      "\n",
      "Attaching package: ‘dplyr’\n",
      "\n",
      "\n",
      "The following objects are masked from ‘package:stats’:\n",
      "\n",
      "    filter, lag\n",
      "\n",
      "\n",
      "The following objects are masked from ‘package:base’:\n",
      "\n",
      "    intersect, setdiff, setequal, union\n",
      "\n",
      "\n"
     ]
    }
   ],
   "source": [
    "# Load necessary packages and arrests data\n",
    "library(stringr)\n",
    "library(dplyr)\n",
    "\n",
    "arrests_df <- read.csv(\"./data/pvd_arrests_2020-10-03.csv\")"
   ]
  },
  {
   "cell_type": "code",
   "execution_count": 2,
   "metadata": {
    "slideshow": {
     "slide_type": "fragment"
    }
   },
   "outputs": [],
   "source": [
    "count_names <- function(names_str) {\n",
    "    # This function should return the number of names in \n",
    "    # the string `names_str` that we pass to the function. \n",
    "    \n",
    "    name_vec <- unlist(str_split(names_str, \", \"))\n",
    "    k <- length(name_vec)\n",
    "    \n",
    "    return(k)\n",
    "}"
   ]
  },
  {
   "cell_type": "markdown",
   "metadata": {
    "slideshow": {
     "slide_type": "subslide"
    }
   },
   "source": [
    "### 2.1.1 Inconsistencies in `arresting_officers` Column"
   ]
  },
  {
   "cell_type": "code",
   "execution_count": 3,
   "metadata": {
    "slideshow": {
     "slide_type": "fragment"
    }
   },
   "outputs": [
    {
     "data": {
      "text/html": [
       "<style>\n",
       ".list-inline {list-style: none; margin:0; padding: 0}\n",
       ".list-inline>li {display: inline-block}\n",
       ".list-inline>li:not(:last-child)::after {content: \"\\00b7\"; padding: 0 .5ex}\n",
       "</style>\n",
       "<ol class=list-inline><li>' YGonzalez, LTaveras'</li><li>' NManfredi'</li><li>' MPlace, JPerez, ASantos'</li><li>' MPlace, JPerez, ASantos'</li><li>' MPlace, JPerez, ASantos'</li><li>' MPlace, JPerez, ASantos'</li><li>' MPlace, JPerez, ASantos'</li><li>' CVingi, SCooney'</li><li>' CVingi, SCooney'</li><li>' CVingi, SCooney'</li></ol>\n"
      ],
      "text/latex": [
       "\\begin{enumerate*}\n",
       "\\item ' YGonzalez, LTaveras'\n",
       "\\item ' NManfredi'\n",
       "\\item ' MPlace, JPerez, ASantos'\n",
       "\\item ' MPlace, JPerez, ASantos'\n",
       "\\item ' MPlace, JPerez, ASantos'\n",
       "\\item ' MPlace, JPerez, ASantos'\n",
       "\\item ' MPlace, JPerez, ASantos'\n",
       "\\item ' CVingi, SCooney'\n",
       "\\item ' CVingi, SCooney'\n",
       "\\item ' CVingi, SCooney'\n",
       "\\end{enumerate*}\n"
      ],
      "text/markdown": [
       "1. ' YGonzalez, LTaveras'\n",
       "2. ' NManfredi'\n",
       "3. ' MPlace, JPerez, ASantos'\n",
       "4. ' MPlace, JPerez, ASantos'\n",
       "5. ' MPlace, JPerez, ASantos'\n",
       "6. ' MPlace, JPerez, ASantos'\n",
       "7. ' MPlace, JPerez, ASantos'\n",
       "8. ' CVingi, SCooney'\n",
       "9. ' CVingi, SCooney'\n",
       "10. ' CVingi, SCooney'\n",
       "\n",
       "\n"
      ],
      "text/plain": [
       " [1] \" YGonzalez, LTaveras\"     \" NManfredi\"              \n",
       " [3] \" MPlace, JPerez, ASantos\" \" MPlace, JPerez, ASantos\"\n",
       " [5] \" MPlace, JPerez, ASantos\" \" MPlace, JPerez, ASantos\"\n",
       " [7] \" MPlace, JPerez, ASantos\" \" CVingi, SCooney\"        \n",
       " [9] \" CVingi, SCooney\"         \" CVingi, SCooney\"        "
      ]
     },
     "metadata": {},
     "output_type": "display_data"
    }
   ],
   "source": [
    "head(arrests_df$arresting_officers, 10)"
   ]
  },
  {
   "cell_type": "code",
   "execution_count": 4,
   "metadata": {
    "slideshow": {
     "slide_type": "fragment"
    }
   },
   "outputs": [
    {
     "data": {
      "text/html": [
       "<style>\n",
       ".list-inline {list-style: none; margin:0; padding: 0}\n",
       ".list-inline>li {display: inline-block}\n",
       ".list-inline>li:not(:last-child)::after {content: \"\\00b7\"; padding: 0 .5ex}\n",
       "</style>\n",
       "<ol class=list-inline><li>'Lopez, Vincent/ Schneider, Alex/ Vargas, Guillermo'</li><li>'Lopez, Vincent/ Schneider, Alex/ Vargas, Guillermo'</li><li>'Lopez, Vincent/ Schneider, Alex/ Vargas, Guillermo'</li><li>'Lopez, Vincent/ Schneider, Alex/ Vargas, Guillermo'</li><li>'Maycock, Michael'</li><li>'San Lucas, Luis'</li><li>'Lopes, Joseph'</li><li>'Lopes, Joseph'</li><li>'Heaton, Robert'</li><li>'Newton, Frank/ Chin, Rosemarie'</li></ol>\n"
      ],
      "text/latex": [
       "\\begin{enumerate*}\n",
       "\\item 'Lopez, Vincent/ Schneider, Alex/ Vargas, Guillermo'\n",
       "\\item 'Lopez, Vincent/ Schneider, Alex/ Vargas, Guillermo'\n",
       "\\item 'Lopez, Vincent/ Schneider, Alex/ Vargas, Guillermo'\n",
       "\\item 'Lopez, Vincent/ Schneider, Alex/ Vargas, Guillermo'\n",
       "\\item 'Maycock, Michael'\n",
       "\\item 'San Lucas, Luis'\n",
       "\\item 'Lopes, Joseph'\n",
       "\\item 'Lopes, Joseph'\n",
       "\\item 'Heaton, Robert'\n",
       "\\item 'Newton, Frank/ Chin, Rosemarie'\n",
       "\\end{enumerate*}\n"
      ],
      "text/markdown": [
       "1. 'Lopez, Vincent/ Schneider, Alex/ Vargas, Guillermo'\n",
       "2. 'Lopez, Vincent/ Schneider, Alex/ Vargas, Guillermo'\n",
       "3. 'Lopez, Vincent/ Schneider, Alex/ Vargas, Guillermo'\n",
       "4. 'Lopez, Vincent/ Schneider, Alex/ Vargas, Guillermo'\n",
       "5. 'Maycock, Michael'\n",
       "6. 'San Lucas, Luis'\n",
       "7. 'Lopes, Joseph'\n",
       "8. 'Lopes, Joseph'\n",
       "9. 'Heaton, Robert'\n",
       "10. 'Newton, Frank/ Chin, Rosemarie'\n",
       "\n",
       "\n"
      ],
      "text/plain": [
       " [1] \"Lopez, Vincent/ Schneider, Alex/ Vargas, Guillermo\"\n",
       " [2] \"Lopez, Vincent/ Schneider, Alex/ Vargas, Guillermo\"\n",
       " [3] \"Lopez, Vincent/ Schneider, Alex/ Vargas, Guillermo\"\n",
       " [4] \"Lopez, Vincent/ Schneider, Alex/ Vargas, Guillermo\"\n",
       " [5] \"Maycock, Michael\"                                  \n",
       " [6] \"San Lucas, Luis\"                                   \n",
       " [7] \"Lopes, Joseph\"                                     \n",
       " [8] \"Lopes, Joseph\"                                     \n",
       " [9] \"Heaton, Robert\"                                    \n",
       "[10] \"Newton, Frank/ Chin, Rosemarie\"                    "
      ]
     },
     "metadata": {},
     "output_type": "display_data"
    }
   ],
   "source": [
    "tail(arrests_df$arresting_officers, 10)"
   ]
  },
  {
   "cell_type": "markdown",
   "metadata": {
    "slideshow": {
     "slide_type": "subslide"
    }
   },
   "source": [
    "## 2.2 Addressing the Inconsistency\n",
    "  - Use different criteria for counting names with full-name format\n",
    "    + Define function to identify full-name vs. first-initial format\n",
    "    + Note: first-inital format always starts with two capital letters"
   ]
  },
  {
   "cell_type": "code",
   "execution_count": 5,
   "metadata": {
    "slideshow": {
     "slide_type": "fragment"
    }
   },
   "outputs": [
    {
     "data": {
      "text/html": [
       "<style>\n",
       ".list-inline {list-style: none; margin:0; padding: 0}\n",
       ".list-inline>li {display: inline-block}\n",
       ".list-inline>li:not(:last-child)::after {content: \"\\00b7\"; padding: 0 .5ex}\n",
       "</style>\n",
       "<ol class=list-inline><li>'A'</li><li>'B'</li><li>'C'</li><li>'D'</li><li>'E'</li><li>'F'</li><li>'G'</li><li>'H'</li><li>'I'</li><li>'J'</li><li>'K'</li><li>'L'</li><li>'M'</li><li>'N'</li><li>'O'</li><li>'P'</li><li>'Q'</li><li>'R'</li><li>'S'</li><li>'T'</li><li>'U'</li><li>'V'</li><li>'W'</li><li>'X'</li><li>'Y'</li><li>'Z'</li></ol>\n"
      ],
      "text/latex": [
       "\\begin{enumerate*}\n",
       "\\item 'A'\n",
       "\\item 'B'\n",
       "\\item 'C'\n",
       "\\item 'D'\n",
       "\\item 'E'\n",
       "\\item 'F'\n",
       "\\item 'G'\n",
       "\\item 'H'\n",
       "\\item 'I'\n",
       "\\item 'J'\n",
       "\\item 'K'\n",
       "\\item 'L'\n",
       "\\item 'M'\n",
       "\\item 'N'\n",
       "\\item 'O'\n",
       "\\item 'P'\n",
       "\\item 'Q'\n",
       "\\item 'R'\n",
       "\\item 'S'\n",
       "\\item 'T'\n",
       "\\item 'U'\n",
       "\\item 'V'\n",
       "\\item 'W'\n",
       "\\item 'X'\n",
       "\\item 'Y'\n",
       "\\item 'Z'\n",
       "\\end{enumerate*}\n"
      ],
      "text/markdown": [
       "1. 'A'\n",
       "2. 'B'\n",
       "3. 'C'\n",
       "4. 'D'\n",
       "5. 'E'\n",
       "6. 'F'\n",
       "7. 'G'\n",
       "8. 'H'\n",
       "9. 'I'\n",
       "10. 'J'\n",
       "11. 'K'\n",
       "12. 'L'\n",
       "13. 'M'\n",
       "14. 'N'\n",
       "15. 'O'\n",
       "16. 'P'\n",
       "17. 'Q'\n",
       "18. 'R'\n",
       "19. 'S'\n",
       "20. 'T'\n",
       "21. 'U'\n",
       "22. 'V'\n",
       "23. 'W'\n",
       "24. 'X'\n",
       "25. 'Y'\n",
       "26. 'Z'\n",
       "\n",
       "\n"
      ],
      "text/plain": [
       " [1] \"A\" \"B\" \"C\" \"D\" \"E\" \"F\" \"G\" \"H\" \"I\" \"J\" \"K\" \"L\" \"M\" \"N\" \"O\" \"P\" \"Q\" \"R\" \"S\"\n",
       "[20] \"T\" \"U\" \"V\" \"W\" \"X\" \"Y\" \"Z\""
      ]
     },
     "metadata": {},
     "output_type": "display_data"
    }
   ],
   "source": [
    "LETTERS               # This is a built-in object in R"
   ]
  },
  {
   "cell_type": "code",
   "execution_count": 6,
   "metadata": {
    "slideshow": {
     "slide_type": "fragment"
    }
   },
   "outputs": [
    {
     "data": {
      "text/html": [
       "TRUE"
      ],
      "text/latex": [
       "TRUE"
      ],
      "text/markdown": [
       "TRUE"
      ],
      "text/plain": [
       "[1] TRUE"
      ]
     },
     "metadata": {},
     "output_type": "display_data"
    }
   ],
   "source": [
    "\"B\" %in% LETTERS"
   ]
  },
  {
   "cell_type": "markdown",
   "metadata": {
    "slideshow": {
     "slide_type": "subslide"
    }
   },
   "source": [
    "## 2.3 Identifying Full-Name Format \n",
    "  - If the first two characters are uppercase, it's full-name format"
   ]
  },
  {
   "cell_type": "code",
   "execution_count": 7,
   "metadata": {
    "slideshow": {
     "slide_type": "fragment"
    }
   },
   "outputs": [],
   "source": [
    "is_uppercase <- function(chr) {\n",
    "    res <- chr %in% LETTERS\n",
    "    return(res)\n",
    "}\n",
    "\n",
    "has_full_names <- function(names_str) {\n",
    "    char1 <- substr(names_str, 1, 1)\n",
    "    char2 <- substr(names_str, 2, 2)\n",
    "    \n",
    "    res <- !(is_uppercase(char1) && is_uppercase(char2))\n",
    "    return(res)\n",
    "}"
   ]
  },
  {
   "cell_type": "markdown",
   "metadata": {
    "slideshow": {
     "slide_type": "subslide"
    }
   },
   "source": [
    "### 2.3.1 Testing our Functions"
   ]
  },
  {
   "cell_type": "code",
   "execution_count": 8,
   "metadata": {
    "slideshow": {
     "slide_type": "fragment"
    }
   },
   "outputs": [
    {
     "data": {
      "text/html": [
       "FALSE"
      ],
      "text/latex": [
       "FALSE"
      ],
      "text/markdown": [
       "FALSE"
      ],
      "text/plain": [
       "[1] FALSE"
      ]
     },
     "metadata": {},
     "output_type": "display_data"
    },
    {
     "data": {
      "text/html": [
       "FALSE"
      ],
      "text/latex": [
       "FALSE"
      ],
      "text/markdown": [
       "FALSE"
      ],
      "text/plain": [
       "[1] FALSE"
      ]
     },
     "metadata": {},
     "output_type": "display_data"
    },
    {
     "data": {
      "text/html": [
       "FALSE"
      ],
      "text/latex": [
       "FALSE"
      ],
      "text/markdown": [
       "FALSE"
      ],
      "text/plain": [
       "[1] FALSE"
      ]
     },
     "metadata": {},
     "output_type": "display_data"
    },
    {
     "data": {
      "text/html": [
       "FALSE"
      ],
      "text/latex": [
       "FALSE"
      ],
      "text/markdown": [
       "FALSE"
      ],
      "text/plain": [
       "[1] FALSE"
      ]
     },
     "metadata": {},
     "output_type": "display_data"
    },
    {
     "data": {
      "text/html": [
       "TRUE"
      ],
      "text/latex": [
       "TRUE"
      ],
      "text/markdown": [
       "TRUE"
      ],
      "text/plain": [
       "[1] TRUE"
      ]
     },
     "metadata": {},
     "output_type": "display_data"
    },
    {
     "data": {
      "text/html": [
       "TRUE"
      ],
      "text/latex": [
       "TRUE"
      ],
      "text/markdown": [
       "TRUE"
      ],
      "text/plain": [
       "[1] TRUE"
      ]
     },
     "metadata": {},
     "output_type": "display_data"
    },
    {
     "data": {
      "text/html": [
       "TRUE"
      ],
      "text/latex": [
       "TRUE"
      ],
      "text/markdown": [
       "TRUE"
      ],
      "text/plain": [
       "[1] TRUE"
      ]
     },
     "metadata": {},
     "output_type": "display_data"
    },
    {
     "data": {
      "text/html": [
       "TRUE"
      ],
      "text/latex": [
       "TRUE"
      ],
      "text/markdown": [
       "TRUE"
      ],
      "text/plain": [
       "[1] TRUE"
      ]
     },
     "metadata": {},
     "output_type": "display_data"
    }
   ],
   "source": [
    "is_uppercase(\"a\")                            # false\n",
    "is_uppercase(\"b\")                            # false\n",
    "has_full_names(\"NManfredi\")                  # Not full name\n",
    "has_full_names(\"MPlace, JPerez, ASantos\")    # Not full name\n",
    "\n",
    "is_uppercase(\"A\")\n",
    "is_uppercase(\"B\")\n",
    "has_full_names(\"Newton, Frank\")\n",
    "has_full_names(\"Newton, Frank/ Chin, Rosemarie\")"
   ]
  },
  {
   "cell_type": "markdown",
   "metadata": {
    "slideshow": {
     "slide_type": "subslide"
    }
   },
   "source": [
    "## 2.4 Fixing our `count_names()` Function"
   ]
  },
  {
   "cell_type": "code",
   "execution_count": 9,
   "metadata": {
    "slideshow": {
     "slide_type": "fragment"
    }
   },
   "outputs": [],
   "source": [
    "old_count_names <- function(names_str) {\n",
    "    name_vec <- unlist(str_split(names_str, \", \"))\n",
    "    k <- length(name_vec)\n",
    "    \n",
    "    return(k)\n",
    "}"
   ]
  },
  {
   "cell_type": "code",
   "execution_count": 10,
   "metadata": {
    "slideshow": {
     "slide_type": "fragment"
    }
   },
   "outputs": [],
   "source": [
    "count_names <- function(names_str) {\n",
    "    names_str_trm <- str_trim(names_str)     # remove whitespace\n",
    "    \n",
    "    if (has_full_names(names_str_trm)) {\n",
    "        split_char <- \"/ \"\n",
    "    } else {\n",
    "        split_char <- \", \"\n",
    "    }\n",
    "    \n",
    "    name_vec <- unlist(str_split(names_str_trm, split_char))\n",
    "    k <- length(name_vec)\n",
    "    \n",
    "    return(k)\n",
    "}"
   ]
  },
  {
   "cell_type": "markdown",
   "metadata": {
    "slideshow": {
     "slide_type": "subslide"
    }
   },
   "source": [
    "### 2.4.1 Testing New `count_names()`"
   ]
  },
  {
   "cell_type": "code",
   "execution_count": 11,
   "metadata": {
    "slideshow": {
     "slide_type": "fragment"
    }
   },
   "outputs": [
    {
     "data": {
      "text/html": [
       "TRUE"
      ],
      "text/latex": [
       "TRUE"
      ],
      "text/markdown": [
       "TRUE"
      ],
      "text/plain": [
       "[1] TRUE"
      ]
     },
     "metadata": {},
     "output_type": "display_data"
    },
    {
     "data": {
      "text/html": [
       "FALSE"
      ],
      "text/latex": [
       "FALSE"
      ],
      "text/markdown": [
       "FALSE"
      ],
      "text/plain": [
       "[1] FALSE"
      ]
     },
     "metadata": {},
     "output_type": "display_data"
    },
    {
     "data": {
      "text/html": [
       "TRUE"
      ],
      "text/latex": [
       "TRUE"
      ],
      "text/markdown": [
       "TRUE"
      ],
      "text/plain": [
       "[1] TRUE"
      ]
     },
     "metadata": {},
     "output_type": "display_data"
    },
    {
     "data": {
      "text/html": [
       "TRUE"
      ],
      "text/latex": [
       "TRUE"
      ],
      "text/markdown": [
       "TRUE"
      ],
      "text/plain": [
       "[1] TRUE"
      ]
     },
     "metadata": {},
     "output_type": "display_data"
    }
   ],
   "source": [
    "old_count_names(\"YGonzalez, LTaveras\") == 2\n",
    "old_count_names(\"Newton, Frank/ Chin, Rosemarie\") == 2     # function is wrong\n",
    "count_names(\"YGonzalez, LTaveras\") == 2\n",
    "count_names(\"Newton, Frank/ Chin, Rosemarie\") == 2"
   ]
  },
  {
   "cell_type": "markdown",
   "metadata": {
    "slideshow": {
     "slide_type": "subslide"
    }
   },
   "source": [
    "## 2.5 Re-Counting Officers\n",
    "  - Let's compare how the \"old\" (i.e., incorrect) method did relative to our new `count_names()`"
   ]
  },
  {
   "cell_type": "code",
   "execution_count": 12,
   "metadata": {
    "slideshow": {
     "slide_type": "fragment"
    }
   },
   "outputs": [],
   "source": [
    "count_officers <- function(col, old = FALSE) {\n",
    "\n",
    "    n <- length(col)   # get the length of our input column\n",
    "    cnts <- rep(0, n)  # allocate vector of zeros to populate with counts\n",
    "\n",
    "    for (i in 1:n) {\n",
    "        if (old) {\n",
    "            cnts[i] <- old_count_names(col[i])\n",
    "        } else {\n",
    "            cnts[i] <- count_names(col[i])\n",
    "        }\n",
    "    }\n",
    "    return(cnts) \n",
    "}"
   ]
  },
  {
   "cell_type": "code",
   "execution_count": 13,
   "metadata": {
    "slideshow": {
     "slide_type": "fragment"
    }
   },
   "outputs": [],
   "source": [
    "arrests_df$old_officer_cnt <- count_officers(arrests_df$arresting_officers, old = TRUE)\n",
    "\n",
    "arrests_df$officer_cnt <- count_officers(arrests_df$arresting_officers)"
   ]
  },
  {
   "cell_type": "code",
   "execution_count": 14,
   "metadata": {
    "slideshow": {
     "slide_type": "subslide"
    }
   },
   "outputs": [
    {
     "data": {
      "text/html": [
       "<table>\n",
       "<caption>A data.frame: 6 × 20</caption>\n",
       "<thead>\n",
       "\t<tr><th></th><th scope=col>arrest_date</th><th scope=col>year</th><th scope=col>month</th><th scope=col>gender</th><th scope=col>race</th><th scope=col>ethnicity</th><th scope=col>year_of_birth</th><th scope=col>age</th><th scope=col>from_address</th><th scope=col>from_city</th><th scope=col>from_state</th><th scope=col>statute_type</th><th scope=col>statute_code</th><th scope=col>statute_desc</th><th scope=col>counts</th><th scope=col>case_number</th><th scope=col>arresting_officers</th><th scope=col>arrestee_id</th><th scope=col>old_officer_cnt</th><th scope=col>officer_cnt</th></tr>\n",
       "\t<tr><th></th><th scope=col>&lt;chr&gt;</th><th scope=col>&lt;int&gt;</th><th scope=col>&lt;int&gt;</th><th scope=col>&lt;chr&gt;</th><th scope=col>&lt;chr&gt;</th><th scope=col>&lt;chr&gt;</th><th scope=col>&lt;int&gt;</th><th scope=col>&lt;int&gt;</th><th scope=col>&lt;chr&gt;</th><th scope=col>&lt;chr&gt;</th><th scope=col>&lt;chr&gt;</th><th scope=col>&lt;chr&gt;</th><th scope=col>&lt;chr&gt;</th><th scope=col>&lt;chr&gt;</th><th scope=col>&lt;int&gt;</th><th scope=col>&lt;chr&gt;</th><th scope=col>&lt;chr&gt;</th><th scope=col>&lt;chr&gt;</th><th scope=col>&lt;dbl&gt;</th><th scope=col>&lt;dbl&gt;</th></tr>\n",
       "</thead>\n",
       "<tbody>\n",
       "\t<tr><th scope=row>1</th><td>2019-08-24T02:23:00.0</td><td>2019</td><td>8</td><td>Male  </td><td>White</td><td>NonHispanic</td><td>1981</td><td>37</td><td>No Permanent Address</td><td>providence</td><td>Rhode Island</td><td>                    </td><td>        </td><td>                                                         </td><td>NA</td><td>2019-00084142</td><td> YGonzalez, LTaveras    </td><td>pvd2218242150382148273 </td><td>2</td><td>2</td></tr>\n",
       "\t<tr><th scope=row>2</th><td>2019-08-24T02:02:00.0</td><td>2019</td><td>8</td><td>      </td><td>     </td><td>           </td><td>1994</td><td>25</td><td>SUMMER AVE          </td><td>Cranston  </td><td>Rhode Island</td><td>RI Statute Violation</td><td>31-11-18</td><td>Driving after Denial, Suspension or Revocation of License</td><td> 1</td><td>2019-00084127</td><td> NManfredi              </td><td>pvd15166785558364246202</td><td>1</td><td>1</td></tr>\n",
       "\t<tr><th scope=row>3</th><td>2019-08-24T02:02:00.0</td><td>2019</td><td>8</td><td>Female</td><td>Black</td><td>NonHispanic</td><td>1984</td><td>34</td><td>DOUGLAS AVE         </td><td>Providence</td><td>Rhode Island</td><td>RI Statute Violation</td><td>12-7-10 </td><td>RESISTING LEGAL OR ILLEGAL ARREST                        </td><td> 1</td><td>2019-00084126</td><td> MPlace, JPerez, ASantos</td><td>pvd3142917706201385905 </td><td>3</td><td>3</td></tr>\n",
       "\t<tr><th scope=row>4</th><td>2019-08-24T02:02:00.0</td><td>2019</td><td>8</td><td>Female</td><td>Black</td><td>NonHispanic</td><td>1984</td><td>34</td><td>DOUGLAS AVE         </td><td>Providence</td><td>Rhode Island</td><td>RI Statute Violation</td><td>11-45-1 </td><td>DISORDERLY CONDUCT                                       </td><td> 1</td><td>2019-00084126</td><td> MPlace, JPerez, ASantos</td><td>pvd3142917706201385905 </td><td>3</td><td>3</td></tr>\n",
       "\t<tr><th scope=row>5</th><td>2019-08-24T02:02:00.0</td><td>2019</td><td>8</td><td>Female</td><td>Black</td><td>Unknown    </td><td>2001</td><td>18</td><td>TRASH ST            </td><td>          </td><td>            </td><td>RI Statute Violation</td><td>12-7-10 </td><td>RESISTING LEGAL OR ILLEGAL ARREST                        </td><td> 1</td><td>2019-00084126</td><td> MPlace, JPerez, ASantos</td><td>pvd460449304532374599  </td><td>3</td><td>3</td></tr>\n",
       "\t<tr><th scope=row>6</th><td>2019-08-24T02:02:00.0</td><td>2019</td><td>8</td><td>Female</td><td>Black</td><td>Unknown    </td><td>2001</td><td>18</td><td>TRASH ST            </td><td>          </td><td>            </td><td>RI Statute Violation</td><td>11-45-1 </td><td>DISORDERLY CONDUCT                                       </td><td> 1</td><td>2019-00084126</td><td> MPlace, JPerez, ASantos</td><td>pvd460449304532374599  </td><td>3</td><td>3</td></tr>\n",
       "</tbody>\n",
       "</table>\n"
      ],
      "text/latex": [
       "A data.frame: 6 × 20\n",
       "\\begin{tabular}{r|llllllllllllllllllll}\n",
       "  & arrest\\_date & year & month & gender & race & ethnicity & year\\_of\\_birth & age & from\\_address & from\\_city & from\\_state & statute\\_type & statute\\_code & statute\\_desc & counts & case\\_number & arresting\\_officers & arrestee\\_id & old\\_officer\\_cnt & officer\\_cnt\\\\\n",
       "  & <chr> & <int> & <int> & <chr> & <chr> & <chr> & <int> & <int> & <chr> & <chr> & <chr> & <chr> & <chr> & <chr> & <int> & <chr> & <chr> & <chr> & <dbl> & <dbl>\\\\\n",
       "\\hline\n",
       "\t1 & 2019-08-24T02:23:00.0 & 2019 & 8 & Male   & White & NonHispanic & 1981 & 37 & No Permanent Address & providence & Rhode Island &                      &          &                                                           & NA & 2019-00084142 &  YGonzalez, LTaveras     & pvd2218242150382148273  & 2 & 2\\\\\n",
       "\t2 & 2019-08-24T02:02:00.0 & 2019 & 8 &        &       &             & 1994 & 25 & SUMMER AVE           & Cranston   & Rhode Island & RI Statute Violation & 31-11-18 & Driving after Denial, Suspension or Revocation of License &  1 & 2019-00084127 &  NManfredi               & pvd15166785558364246202 & 1 & 1\\\\\n",
       "\t3 & 2019-08-24T02:02:00.0 & 2019 & 8 & Female & Black & NonHispanic & 1984 & 34 & DOUGLAS AVE          & Providence & Rhode Island & RI Statute Violation & 12-7-10  & RESISTING LEGAL OR ILLEGAL ARREST                         &  1 & 2019-00084126 &  MPlace, JPerez, ASantos & pvd3142917706201385905  & 3 & 3\\\\\n",
       "\t4 & 2019-08-24T02:02:00.0 & 2019 & 8 & Female & Black & NonHispanic & 1984 & 34 & DOUGLAS AVE          & Providence & Rhode Island & RI Statute Violation & 11-45-1  & DISORDERLY CONDUCT                                        &  1 & 2019-00084126 &  MPlace, JPerez, ASantos & pvd3142917706201385905  & 3 & 3\\\\\n",
       "\t5 & 2019-08-24T02:02:00.0 & 2019 & 8 & Female & Black & Unknown     & 2001 & 18 & TRASH ST             &            &              & RI Statute Violation & 12-7-10  & RESISTING LEGAL OR ILLEGAL ARREST                         &  1 & 2019-00084126 &  MPlace, JPerez, ASantos & pvd460449304532374599   & 3 & 3\\\\\n",
       "\t6 & 2019-08-24T02:02:00.0 & 2019 & 8 & Female & Black & Unknown     & 2001 & 18 & TRASH ST             &            &              & RI Statute Violation & 11-45-1  & DISORDERLY CONDUCT                                        &  1 & 2019-00084126 &  MPlace, JPerez, ASantos & pvd460449304532374599   & 3 & 3\\\\\n",
       "\\end{tabular}\n"
      ],
      "text/markdown": [
       "\n",
       "A data.frame: 6 × 20\n",
       "\n",
       "| <!--/--> | arrest_date &lt;chr&gt; | year &lt;int&gt; | month &lt;int&gt; | gender &lt;chr&gt; | race &lt;chr&gt; | ethnicity &lt;chr&gt; | year_of_birth &lt;int&gt; | age &lt;int&gt; | from_address &lt;chr&gt; | from_city &lt;chr&gt; | from_state &lt;chr&gt; | statute_type &lt;chr&gt; | statute_code &lt;chr&gt; | statute_desc &lt;chr&gt; | counts &lt;int&gt; | case_number &lt;chr&gt; | arresting_officers &lt;chr&gt; | arrestee_id &lt;chr&gt; | old_officer_cnt &lt;dbl&gt; | officer_cnt &lt;dbl&gt; |\n",
       "|---|---|---|---|---|---|---|---|---|---|---|---|---|---|---|---|---|---|---|---|---|\n",
       "| 1 | 2019-08-24T02:23:00.0 | 2019 | 8 | Male   | White | NonHispanic | 1981 | 37 | No Permanent Address | providence | Rhode Island | <!----> | <!----> | <!----> | NA | 2019-00084142 |  YGonzalez, LTaveras     | pvd2218242150382148273  | 2 | 2 |\n",
       "| 2 | 2019-08-24T02:02:00.0 | 2019 | 8 | <!----> | <!----> | <!----> | 1994 | 25 | SUMMER AVE           | Cranston   | Rhode Island | RI Statute Violation | 31-11-18 | Driving after Denial, Suspension or Revocation of License |  1 | 2019-00084127 |  NManfredi               | pvd15166785558364246202 | 1 | 1 |\n",
       "| 3 | 2019-08-24T02:02:00.0 | 2019 | 8 | Female | Black | NonHispanic | 1984 | 34 | DOUGLAS AVE          | Providence | Rhode Island | RI Statute Violation | 12-7-10  | RESISTING LEGAL OR ILLEGAL ARREST                         |  1 | 2019-00084126 |  MPlace, JPerez, ASantos | pvd3142917706201385905  | 3 | 3 |\n",
       "| 4 | 2019-08-24T02:02:00.0 | 2019 | 8 | Female | Black | NonHispanic | 1984 | 34 | DOUGLAS AVE          | Providence | Rhode Island | RI Statute Violation | 11-45-1  | DISORDERLY CONDUCT                                        |  1 | 2019-00084126 |  MPlace, JPerez, ASantos | pvd3142917706201385905  | 3 | 3 |\n",
       "| 5 | 2019-08-24T02:02:00.0 | 2019 | 8 | Female | Black | Unknown     | 2001 | 18 | TRASH ST             | <!----> | <!----> | RI Statute Violation | 12-7-10  | RESISTING LEGAL OR ILLEGAL ARREST                         |  1 | 2019-00084126 |  MPlace, JPerez, ASantos | pvd460449304532374599   | 3 | 3 |\n",
       "| 6 | 2019-08-24T02:02:00.0 | 2019 | 8 | Female | Black | Unknown     | 2001 | 18 | TRASH ST             | <!----> | <!----> | RI Statute Violation | 11-45-1  | DISORDERLY CONDUCT                                        |  1 | 2019-00084126 |  MPlace, JPerez, ASantos | pvd460449304532374599   | 3 | 3 |\n",
       "\n"
      ],
      "text/plain": [
       "  arrest_date           year month gender race  ethnicity   year_of_birth age\n",
       "1 2019-08-24T02:23:00.0 2019 8     Male   White NonHispanic 1981          37 \n",
       "2 2019-08-24T02:02:00.0 2019 8                              1994          25 \n",
       "3 2019-08-24T02:02:00.0 2019 8     Female Black NonHispanic 1984          34 \n",
       "4 2019-08-24T02:02:00.0 2019 8     Female Black NonHispanic 1984          34 \n",
       "5 2019-08-24T02:02:00.0 2019 8     Female Black Unknown     2001          18 \n",
       "6 2019-08-24T02:02:00.0 2019 8     Female Black Unknown     2001          18 \n",
       "  from_address         from_city  from_state   statute_type        \n",
       "1 No Permanent Address providence Rhode Island                     \n",
       "2 SUMMER AVE           Cranston   Rhode Island RI Statute Violation\n",
       "3 DOUGLAS AVE          Providence Rhode Island RI Statute Violation\n",
       "4 DOUGLAS AVE          Providence Rhode Island RI Statute Violation\n",
       "5 TRASH ST                                     RI Statute Violation\n",
       "6 TRASH ST                                     RI Statute Violation\n",
       "  statute_code statute_desc                                              counts\n",
       "1                                                                        NA    \n",
       "2 31-11-18     Driving after Denial, Suspension or Revocation of License  1    \n",
       "3 12-7-10      RESISTING LEGAL OR ILLEGAL ARREST                          1    \n",
       "4 11-45-1      DISORDERLY CONDUCT                                         1    \n",
       "5 12-7-10      RESISTING LEGAL OR ILLEGAL ARREST                          1    \n",
       "6 11-45-1      DISORDERLY CONDUCT                                         1    \n",
       "  case_number   arresting_officers       arrestee_id            \n",
       "1 2019-00084142  YGonzalez, LTaveras     pvd2218242150382148273 \n",
       "2 2019-00084127  NManfredi               pvd15166785558364246202\n",
       "3 2019-00084126  MPlace, JPerez, ASantos pvd3142917706201385905 \n",
       "4 2019-00084126  MPlace, JPerez, ASantos pvd3142917706201385905 \n",
       "5 2019-00084126  MPlace, JPerez, ASantos pvd460449304532374599  \n",
       "6 2019-00084126  MPlace, JPerez, ASantos pvd460449304532374599  \n",
       "  old_officer_cnt officer_cnt\n",
       "1 2               2          \n",
       "2 1               1          \n",
       "3 3               3          \n",
       "4 3               3          \n",
       "5 3               3          \n",
       "6 3               3          "
      ]
     },
     "metadata": {},
     "output_type": "display_data"
    }
   ],
   "source": [
    "head(arrests_df)"
   ]
  },
  {
   "cell_type": "code",
   "execution_count": 15,
   "metadata": {
    "slideshow": {
     "slide_type": "subslide"
    }
   },
   "outputs": [
    {
     "data": {
      "text/html": [
       "<table>\n",
       "<caption>A data.frame: 12 × 20</caption>\n",
       "<thead>\n",
       "\t<tr><th></th><th scope=col>arrest_date</th><th scope=col>year</th><th scope=col>month</th><th scope=col>gender</th><th scope=col>race</th><th scope=col>ethnicity</th><th scope=col>year_of_birth</th><th scope=col>age</th><th scope=col>from_address</th><th scope=col>from_city</th><th scope=col>from_state</th><th scope=col>statute_type</th><th scope=col>statute_code</th><th scope=col>statute_desc</th><th scope=col>counts</th><th scope=col>case_number</th><th scope=col>arresting_officers</th><th scope=col>arrestee_id</th><th scope=col>old_officer_cnt</th><th scope=col>officer_cnt</th></tr>\n",
       "\t<tr><th></th><th scope=col>&lt;chr&gt;</th><th scope=col>&lt;int&gt;</th><th scope=col>&lt;int&gt;</th><th scope=col>&lt;chr&gt;</th><th scope=col>&lt;chr&gt;</th><th scope=col>&lt;chr&gt;</th><th scope=col>&lt;int&gt;</th><th scope=col>&lt;int&gt;</th><th scope=col>&lt;chr&gt;</th><th scope=col>&lt;chr&gt;</th><th scope=col>&lt;chr&gt;</th><th scope=col>&lt;chr&gt;</th><th scope=col>&lt;chr&gt;</th><th scope=col>&lt;chr&gt;</th><th scope=col>&lt;int&gt;</th><th scope=col>&lt;chr&gt;</th><th scope=col>&lt;chr&gt;</th><th scope=col>&lt;chr&gt;</th><th scope=col>&lt;dbl&gt;</th><th scope=col>&lt;dbl&gt;</th></tr>\n",
       "</thead>\n",
       "<tbody>\n",
       "\t<tr><th scope=row>8744</th><td>2020-09-25T15:14:00.0</td><td>2020</td><td>9</td><td>Male  </td><td>White</td><td>NonHispanic</td><td>1947</td><td>72</td><td>WASHBURN ST         </td><td>Providence</td><td>NULL        </td><td>RI Statute Violation</td><td>11-45-1 </td><td>DISORDERLY CONDUCT                                       </td><td> 1</td><td>2020-00079845</td><td>Lugo, Jeann                                       </td><td>pvd6155618112432892995 </td><td>2</td><td>1</td></tr>\n",
       "\t<tr><th scope=row>8745</th><td>2020-09-25T14:36:00.0</td><td>2020</td><td>9</td><td>Male  </td><td>White</td><td>Hispanic   </td><td>1999</td><td>21</td><td>NIAGARA ST          </td><td>Providence</td><td>Rhode Island</td><td>RI Statute Violation</td><td>11-5-2  </td><td>DOMESTIC-FELONY ASSAULT                                  </td><td> 1</td><td>2020-00079837</td><td>Lopez, Vincent/ Schneider, Alex/ Vargas, Guillermo</td><td>pvd8046681516085598213 </td><td>4</td><td>3</td></tr>\n",
       "\t<tr><th scope=row>8746</th><td>2020-09-25T14:36:00.0</td><td>2020</td><td>9</td><td>Male  </td><td>White</td><td>Hispanic   </td><td>1999</td><td>21</td><td>NIAGARA ST          </td><td>Providence</td><td>Rhode Island</td><td>RI Statute Violation</td><td>11-47-42</td><td>WEAPONS OTHER THAN FIREARMS PROHIBITED                   </td><td> 1</td><td>2020-00079837</td><td>Lopez, Vincent/ Schneider, Alex/ Vargas, Guillermo</td><td>pvd8046681516085598213 </td><td>4</td><td>3</td></tr>\n",
       "\t<tr><th scope=row>8747</th><td>2020-09-25T14:36:00.0</td><td>2020</td><td>9</td><td>Male  </td><td>White</td><td>Hispanic   </td><td>1999</td><td>21</td><td>NIAGARA ST          </td><td>Providence</td><td>Rhode Island</td><td>RI Statute Violation</td><td>11-45-1 </td><td>DOMESTIC-DISORDERLY CONDUCT                              </td><td> 1</td><td>2020-00079837</td><td>Lopez, Vincent/ Schneider, Alex/ Vargas, Guillermo</td><td>pvd8046681516085598213 </td><td>4</td><td>3</td></tr>\n",
       "\t<tr><th scope=row>8748</th><td>2020-09-25T14:36:00.0</td><td>2020</td><td>9</td><td>Male  </td><td>White</td><td>Hispanic   </td><td>1999</td><td>21</td><td>NIAGARA ST          </td><td>Providence</td><td>Rhode Island</td><td>RI Statute Violation</td><td>11-44-1 </td><td>DOMESTIC-VANDALISM/MALICIOUS INJURY TO PROP              </td><td> 1</td><td>2020-00079837</td><td>Lopez, Vincent/ Schneider, Alex/ Vargas, Guillermo</td><td>pvd8046681516085598213 </td><td>4</td><td>3</td></tr>\n",
       "\t<tr><th scope=row>8749</th><td>2020-09-25T14:36:00.0</td><td>2020</td><td>9</td><td>Male  </td><td>White</td><td>Hispanic   </td><td>1999</td><td>21</td><td>NIAGARA ST          </td><td>Providence</td><td>Rhode Island</td><td>RI Statute Violation</td><td>11-5-3  </td><td>DOMESTIC-SIMPLE ASSAULT/BATTERY                          </td><td> 1</td><td>2020-00077230</td><td>Lopez, Vincent/ Schneider, Alex/ Vargas, Guillermo</td><td>pvd8046681516085598213 </td><td>4</td><td>3</td></tr>\n",
       "\t<tr><th scope=row>8750</th><td>2020-09-25T09:45:00.0</td><td>2020</td><td>9</td><td>Male  </td><td>White</td><td>NonHispanic</td><td>1970</td><td>50</td><td>PINE ST             </td><td>Providence</td><td>Rhode Island</td><td>RI Statute Violation</td><td>11-5-2  </td><td>FELONY ASSAULT/ DANG. WEAPON OR SUBSTANCE                </td><td> 1</td><td>2020-00079750</td><td>Maycock, Michael                                  </td><td>pvd13478136167689373662</td><td>2</td><td>1</td></tr>\n",
       "\t<tr><th scope=row>8751</th><td>2020-09-25T09:11:00.0</td><td>2020</td><td>9</td><td>Male  </td><td>Black</td><td>NonHispanic</td><td>1990</td><td>29</td><td>WARWICK AVE         </td><td>Cranston  </td><td>NULL        </td><td>RI Statute Violation</td><td>31-11-18</td><td>Driving after Denial, Suspension or Revocation of License</td><td> 1</td><td>2020-00079744</td><td>San Lucas, Luis                                   </td><td>pvd15638788339600544418</td><td>2</td><td>1</td></tr>\n",
       "\t<tr><th scope=row>8752</th><td>2020-09-25T00:00:00.0</td><td>2020</td><td>9</td><td>Female</td><td>Black</td><td>Hispanic   </td><td>1986</td><td>33</td><td>ATWELLS AVE         </td><td>Providence</td><td>NULL        </td><td>NULL                </td><td>NULL    </td><td>NULL                                                     </td><td>NA</td><td>2020-00079901</td><td>Lopes, Joseph                                     </td><td>pvd7076185679870331431 </td><td>2</td><td>1</td></tr>\n",
       "\t<tr><th scope=row>8753</th><td>2020-09-25T00:00:00.0</td><td>2020</td><td>9</td><td>Male  </td><td>Black</td><td>Hispanic   </td><td>1981</td><td>39</td><td>IVES ST             </td><td>Providence</td><td>NULL        </td><td>NULL                </td><td>NULL    </td><td>NULL                                                     </td><td>NA</td><td>2020-00079921</td><td>Lopes, Joseph                                     </td><td>pvd17011494258935977890</td><td>2</td><td>1</td></tr>\n",
       "\t<tr><th scope=row>8754</th><td>2020-09-12T20:03:00.0</td><td>2020</td><td>9</td><td>Male  </td><td>NULL </td><td>NULL       </td><td>1996</td><td>24</td><td>CHARLES ST          </td><td>Providence</td><td>NULL        </td><td>RI Statute Violation</td><td>31-11-18</td><td>Driving after Denial, Suspension or Revocation of License</td><td> 1</td><td>2020-00076109</td><td>Heaton, Robert                                    </td><td>pvd504225440707713502  </td><td>2</td><td>1</td></tr>\n",
       "\t<tr><th scope=row>8755</th><td>2020-08-27T07:10:00.0</td><td>2020</td><td>8</td><td>Male  </td><td>White</td><td>NonHispanic</td><td>1969</td><td>51</td><td>No Permanent Address</td><td>Providence</td><td>NULL        </td><td>RI Statute Violation</td><td>11-45-1 </td><td>DISORDERLY CONDUCT                                       </td><td> 1</td><td>2020-00070772</td><td>Newton, Frank/ Chin, Rosemarie                    </td><td>pvd13901373320918968650</td><td>3</td><td>2</td></tr>\n",
       "</tbody>\n",
       "</table>\n"
      ],
      "text/latex": [
       "A data.frame: 12 × 20\n",
       "\\begin{tabular}{r|llllllllllllllllllll}\n",
       "  & arrest\\_date & year & month & gender & race & ethnicity & year\\_of\\_birth & age & from\\_address & from\\_city & from\\_state & statute\\_type & statute\\_code & statute\\_desc & counts & case\\_number & arresting\\_officers & arrestee\\_id & old\\_officer\\_cnt & officer\\_cnt\\\\\n",
       "  & <chr> & <int> & <int> & <chr> & <chr> & <chr> & <int> & <int> & <chr> & <chr> & <chr> & <chr> & <chr> & <chr> & <int> & <chr> & <chr> & <chr> & <dbl> & <dbl>\\\\\n",
       "\\hline\n",
       "\t8744 & 2020-09-25T15:14:00.0 & 2020 & 9 & Male   & White & NonHispanic & 1947 & 72 & WASHBURN ST          & Providence & NULL         & RI Statute Violation & 11-45-1  & DISORDERLY CONDUCT                                        &  1 & 2020-00079845 & Lugo, Jeann                                        & pvd6155618112432892995  & 2 & 1\\\\\n",
       "\t8745 & 2020-09-25T14:36:00.0 & 2020 & 9 & Male   & White & Hispanic    & 1999 & 21 & NIAGARA ST           & Providence & Rhode Island & RI Statute Violation & 11-5-2   & DOMESTIC-FELONY ASSAULT                                   &  1 & 2020-00079837 & Lopez, Vincent/ Schneider, Alex/ Vargas, Guillermo & pvd8046681516085598213  & 4 & 3\\\\\n",
       "\t8746 & 2020-09-25T14:36:00.0 & 2020 & 9 & Male   & White & Hispanic    & 1999 & 21 & NIAGARA ST           & Providence & Rhode Island & RI Statute Violation & 11-47-42 & WEAPONS OTHER THAN FIREARMS PROHIBITED                    &  1 & 2020-00079837 & Lopez, Vincent/ Schneider, Alex/ Vargas, Guillermo & pvd8046681516085598213  & 4 & 3\\\\\n",
       "\t8747 & 2020-09-25T14:36:00.0 & 2020 & 9 & Male   & White & Hispanic    & 1999 & 21 & NIAGARA ST           & Providence & Rhode Island & RI Statute Violation & 11-45-1  & DOMESTIC-DISORDERLY CONDUCT                               &  1 & 2020-00079837 & Lopez, Vincent/ Schneider, Alex/ Vargas, Guillermo & pvd8046681516085598213  & 4 & 3\\\\\n",
       "\t8748 & 2020-09-25T14:36:00.0 & 2020 & 9 & Male   & White & Hispanic    & 1999 & 21 & NIAGARA ST           & Providence & Rhode Island & RI Statute Violation & 11-44-1  & DOMESTIC-VANDALISM/MALICIOUS INJURY TO PROP               &  1 & 2020-00079837 & Lopez, Vincent/ Schneider, Alex/ Vargas, Guillermo & pvd8046681516085598213  & 4 & 3\\\\\n",
       "\t8749 & 2020-09-25T14:36:00.0 & 2020 & 9 & Male   & White & Hispanic    & 1999 & 21 & NIAGARA ST           & Providence & Rhode Island & RI Statute Violation & 11-5-3   & DOMESTIC-SIMPLE ASSAULT/BATTERY                           &  1 & 2020-00077230 & Lopez, Vincent/ Schneider, Alex/ Vargas, Guillermo & pvd8046681516085598213  & 4 & 3\\\\\n",
       "\t8750 & 2020-09-25T09:45:00.0 & 2020 & 9 & Male   & White & NonHispanic & 1970 & 50 & PINE ST              & Providence & Rhode Island & RI Statute Violation & 11-5-2   & FELONY ASSAULT/ DANG. WEAPON OR SUBSTANCE                 &  1 & 2020-00079750 & Maycock, Michael                                   & pvd13478136167689373662 & 2 & 1\\\\\n",
       "\t8751 & 2020-09-25T09:11:00.0 & 2020 & 9 & Male   & Black & NonHispanic & 1990 & 29 & WARWICK AVE          & Cranston   & NULL         & RI Statute Violation & 31-11-18 & Driving after Denial, Suspension or Revocation of License &  1 & 2020-00079744 & San Lucas, Luis                                    & pvd15638788339600544418 & 2 & 1\\\\\n",
       "\t8752 & 2020-09-25T00:00:00.0 & 2020 & 9 & Female & Black & Hispanic    & 1986 & 33 & ATWELLS AVE          & Providence & NULL         & NULL                 & NULL     & NULL                                                      & NA & 2020-00079901 & Lopes, Joseph                                      & pvd7076185679870331431  & 2 & 1\\\\\n",
       "\t8753 & 2020-09-25T00:00:00.0 & 2020 & 9 & Male   & Black & Hispanic    & 1981 & 39 & IVES ST              & Providence & NULL         & NULL                 & NULL     & NULL                                                      & NA & 2020-00079921 & Lopes, Joseph                                      & pvd17011494258935977890 & 2 & 1\\\\\n",
       "\t8754 & 2020-09-12T20:03:00.0 & 2020 & 9 & Male   & NULL  & NULL        & 1996 & 24 & CHARLES ST           & Providence & NULL         & RI Statute Violation & 31-11-18 & Driving after Denial, Suspension or Revocation of License &  1 & 2020-00076109 & Heaton, Robert                                     & pvd504225440707713502   & 2 & 1\\\\\n",
       "\t8755 & 2020-08-27T07:10:00.0 & 2020 & 8 & Male   & White & NonHispanic & 1969 & 51 & No Permanent Address & Providence & NULL         & RI Statute Violation & 11-45-1  & DISORDERLY CONDUCT                                        &  1 & 2020-00070772 & Newton, Frank/ Chin, Rosemarie                     & pvd13901373320918968650 & 3 & 2\\\\\n",
       "\\end{tabular}\n"
      ],
      "text/markdown": [
       "\n",
       "A data.frame: 12 × 20\n",
       "\n",
       "| <!--/--> | arrest_date &lt;chr&gt; | year &lt;int&gt; | month &lt;int&gt; | gender &lt;chr&gt; | race &lt;chr&gt; | ethnicity &lt;chr&gt; | year_of_birth &lt;int&gt; | age &lt;int&gt; | from_address &lt;chr&gt; | from_city &lt;chr&gt; | from_state &lt;chr&gt; | statute_type &lt;chr&gt; | statute_code &lt;chr&gt; | statute_desc &lt;chr&gt; | counts &lt;int&gt; | case_number &lt;chr&gt; | arresting_officers &lt;chr&gt; | arrestee_id &lt;chr&gt; | old_officer_cnt &lt;dbl&gt; | officer_cnt &lt;dbl&gt; |\n",
       "|---|---|---|---|---|---|---|---|---|---|---|---|---|---|---|---|---|---|---|---|---|\n",
       "| 8744 | 2020-09-25T15:14:00.0 | 2020 | 9 | Male   | White | NonHispanic | 1947 | 72 | WASHBURN ST          | Providence | NULL         | RI Statute Violation | 11-45-1  | DISORDERLY CONDUCT                                        |  1 | 2020-00079845 | Lugo, Jeann                                        | pvd6155618112432892995  | 2 | 1 |\n",
       "| 8745 | 2020-09-25T14:36:00.0 | 2020 | 9 | Male   | White | Hispanic    | 1999 | 21 | NIAGARA ST           | Providence | Rhode Island | RI Statute Violation | 11-5-2   | DOMESTIC-FELONY ASSAULT                                   |  1 | 2020-00079837 | Lopez, Vincent/ Schneider, Alex/ Vargas, Guillermo | pvd8046681516085598213  | 4 | 3 |\n",
       "| 8746 | 2020-09-25T14:36:00.0 | 2020 | 9 | Male   | White | Hispanic    | 1999 | 21 | NIAGARA ST           | Providence | Rhode Island | RI Statute Violation | 11-47-42 | WEAPONS OTHER THAN FIREARMS PROHIBITED                    |  1 | 2020-00079837 | Lopez, Vincent/ Schneider, Alex/ Vargas, Guillermo | pvd8046681516085598213  | 4 | 3 |\n",
       "| 8747 | 2020-09-25T14:36:00.0 | 2020 | 9 | Male   | White | Hispanic    | 1999 | 21 | NIAGARA ST           | Providence | Rhode Island | RI Statute Violation | 11-45-1  | DOMESTIC-DISORDERLY CONDUCT                               |  1 | 2020-00079837 | Lopez, Vincent/ Schneider, Alex/ Vargas, Guillermo | pvd8046681516085598213  | 4 | 3 |\n",
       "| 8748 | 2020-09-25T14:36:00.0 | 2020 | 9 | Male   | White | Hispanic    | 1999 | 21 | NIAGARA ST           | Providence | Rhode Island | RI Statute Violation | 11-44-1  | DOMESTIC-VANDALISM/MALICIOUS INJURY TO PROP               |  1 | 2020-00079837 | Lopez, Vincent/ Schneider, Alex/ Vargas, Guillermo | pvd8046681516085598213  | 4 | 3 |\n",
       "| 8749 | 2020-09-25T14:36:00.0 | 2020 | 9 | Male   | White | Hispanic    | 1999 | 21 | NIAGARA ST           | Providence | Rhode Island | RI Statute Violation | 11-5-3   | DOMESTIC-SIMPLE ASSAULT/BATTERY                           |  1 | 2020-00077230 | Lopez, Vincent/ Schneider, Alex/ Vargas, Guillermo | pvd8046681516085598213  | 4 | 3 |\n",
       "| 8750 | 2020-09-25T09:45:00.0 | 2020 | 9 | Male   | White | NonHispanic | 1970 | 50 | PINE ST              | Providence | Rhode Island | RI Statute Violation | 11-5-2   | FELONY ASSAULT/ DANG. WEAPON OR SUBSTANCE                 |  1 | 2020-00079750 | Maycock, Michael                                   | pvd13478136167689373662 | 2 | 1 |\n",
       "| 8751 | 2020-09-25T09:11:00.0 | 2020 | 9 | Male   | Black | NonHispanic | 1990 | 29 | WARWICK AVE          | Cranston   | NULL         | RI Statute Violation | 31-11-18 | Driving after Denial, Suspension or Revocation of License |  1 | 2020-00079744 | San Lucas, Luis                                    | pvd15638788339600544418 | 2 | 1 |\n",
       "| 8752 | 2020-09-25T00:00:00.0 | 2020 | 9 | Female | Black | Hispanic    | 1986 | 33 | ATWELLS AVE          | Providence | NULL         | NULL                 | NULL     | NULL                                                      | NA | 2020-00079901 | Lopes, Joseph                                      | pvd7076185679870331431  | 2 | 1 |\n",
       "| 8753 | 2020-09-25T00:00:00.0 | 2020 | 9 | Male   | Black | Hispanic    | 1981 | 39 | IVES ST              | Providence | NULL         | NULL                 | NULL     | NULL                                                      | NA | 2020-00079921 | Lopes, Joseph                                      | pvd17011494258935977890 | 2 | 1 |\n",
       "| 8754 | 2020-09-12T20:03:00.0 | 2020 | 9 | Male   | NULL  | NULL        | 1996 | 24 | CHARLES ST           | Providence | NULL         | RI Statute Violation | 31-11-18 | Driving after Denial, Suspension or Revocation of License |  1 | 2020-00076109 | Heaton, Robert                                     | pvd504225440707713502   | 2 | 1 |\n",
       "| 8755 | 2020-08-27T07:10:00.0 | 2020 | 8 | Male   | White | NonHispanic | 1969 | 51 | No Permanent Address | Providence | NULL         | RI Statute Violation | 11-45-1  | DISORDERLY CONDUCT                                        |  1 | 2020-00070772 | Newton, Frank/ Chin, Rosemarie                     | pvd13901373320918968650 | 3 | 2 |\n",
       "\n"
      ],
      "text/plain": [
       "     arrest_date           year month gender race  ethnicity   year_of_birth\n",
       "8744 2020-09-25T15:14:00.0 2020 9     Male   White NonHispanic 1947         \n",
       "8745 2020-09-25T14:36:00.0 2020 9     Male   White Hispanic    1999         \n",
       "8746 2020-09-25T14:36:00.0 2020 9     Male   White Hispanic    1999         \n",
       "8747 2020-09-25T14:36:00.0 2020 9     Male   White Hispanic    1999         \n",
       "8748 2020-09-25T14:36:00.0 2020 9     Male   White Hispanic    1999         \n",
       "8749 2020-09-25T14:36:00.0 2020 9     Male   White Hispanic    1999         \n",
       "8750 2020-09-25T09:45:00.0 2020 9     Male   White NonHispanic 1970         \n",
       "8751 2020-09-25T09:11:00.0 2020 9     Male   Black NonHispanic 1990         \n",
       "8752 2020-09-25T00:00:00.0 2020 9     Female Black Hispanic    1986         \n",
       "8753 2020-09-25T00:00:00.0 2020 9     Male   Black Hispanic    1981         \n",
       "8754 2020-09-12T20:03:00.0 2020 9     Male   NULL  NULL        1996         \n",
       "8755 2020-08-27T07:10:00.0 2020 8     Male   White NonHispanic 1969         \n",
       "     age from_address         from_city  from_state   statute_type        \n",
       "8744 72  WASHBURN ST          Providence NULL         RI Statute Violation\n",
       "8745 21  NIAGARA ST           Providence Rhode Island RI Statute Violation\n",
       "8746 21  NIAGARA ST           Providence Rhode Island RI Statute Violation\n",
       "8747 21  NIAGARA ST           Providence Rhode Island RI Statute Violation\n",
       "8748 21  NIAGARA ST           Providence Rhode Island RI Statute Violation\n",
       "8749 21  NIAGARA ST           Providence Rhode Island RI Statute Violation\n",
       "8750 50  PINE ST              Providence Rhode Island RI Statute Violation\n",
       "8751 29  WARWICK AVE          Cranston   NULL         RI Statute Violation\n",
       "8752 33  ATWELLS AVE          Providence NULL         NULL                \n",
       "8753 39  IVES ST              Providence NULL         NULL                \n",
       "8754 24  CHARLES ST           Providence NULL         RI Statute Violation\n",
       "8755 51  No Permanent Address Providence NULL         RI Statute Violation\n",
       "     statute_code statute_desc                                             \n",
       "8744 11-45-1      DISORDERLY CONDUCT                                       \n",
       "8745 11-5-2       DOMESTIC-FELONY ASSAULT                                  \n",
       "8746 11-47-42     WEAPONS OTHER THAN FIREARMS PROHIBITED                   \n",
       "8747 11-45-1      DOMESTIC-DISORDERLY CONDUCT                              \n",
       "8748 11-44-1      DOMESTIC-VANDALISM/MALICIOUS INJURY TO PROP              \n",
       "8749 11-5-3       DOMESTIC-SIMPLE ASSAULT/BATTERY                          \n",
       "8750 11-5-2       FELONY ASSAULT/ DANG. WEAPON OR SUBSTANCE                \n",
       "8751 31-11-18     Driving after Denial, Suspension or Revocation of License\n",
       "8752 NULL         NULL                                                     \n",
       "8753 NULL         NULL                                                     \n",
       "8754 31-11-18     Driving after Denial, Suspension or Revocation of License\n",
       "8755 11-45-1      DISORDERLY CONDUCT                                       \n",
       "     counts case_number   arresting_officers                                \n",
       "8744  1     2020-00079845 Lugo, Jeann                                       \n",
       "8745  1     2020-00079837 Lopez, Vincent/ Schneider, Alex/ Vargas, Guillermo\n",
       "8746  1     2020-00079837 Lopez, Vincent/ Schneider, Alex/ Vargas, Guillermo\n",
       "8747  1     2020-00079837 Lopez, Vincent/ Schneider, Alex/ Vargas, Guillermo\n",
       "8748  1     2020-00079837 Lopez, Vincent/ Schneider, Alex/ Vargas, Guillermo\n",
       "8749  1     2020-00077230 Lopez, Vincent/ Schneider, Alex/ Vargas, Guillermo\n",
       "8750  1     2020-00079750 Maycock, Michael                                  \n",
       "8751  1     2020-00079744 San Lucas, Luis                                   \n",
       "8752 NA     2020-00079901 Lopes, Joseph                                     \n",
       "8753 NA     2020-00079921 Lopes, Joseph                                     \n",
       "8754  1     2020-00076109 Heaton, Robert                                    \n",
       "8755  1     2020-00070772 Newton, Frank/ Chin, Rosemarie                    \n",
       "     arrestee_id             old_officer_cnt officer_cnt\n",
       "8744 pvd6155618112432892995  2               1          \n",
       "8745 pvd8046681516085598213  4               3          \n",
       "8746 pvd8046681516085598213  4               3          \n",
       "8747 pvd8046681516085598213  4               3          \n",
       "8748 pvd8046681516085598213  4               3          \n",
       "8749 pvd8046681516085598213  4               3          \n",
       "8750 pvd13478136167689373662 2               1          \n",
       "8751 pvd15638788339600544418 2               1          \n",
       "8752 pvd7076185679870331431  2               1          \n",
       "8753 pvd17011494258935977890 2               1          \n",
       "8754 pvd504225440707713502   2               1          \n",
       "8755 pvd13901373320918968650 3               2          "
      ]
     },
     "metadata": {},
     "output_type": "display_data"
    }
   ],
   "source": [
    "tail(arrests_df, 12)"
   ]
  },
  {
   "cell_type": "markdown",
   "metadata": {
    "slideshow": {
     "slide_type": "subslide"
    }
   },
   "source": [
    "## 2.6 How Many Errors?"
   ]
  },
  {
   "cell_type": "code",
   "execution_count": 16,
   "metadata": {
    "slideshow": {
     "slide_type": "fragment"
    }
   },
   "outputs": [
    {
     "data": {
      "text/html": [
       "4197"
      ],
      "text/latex": [
       "4197"
      ],
      "text/markdown": [
       "4197"
      ],
      "text/plain": [
       "[1] 4197"
      ]
     },
     "metadata": {},
     "output_type": "display_data"
    }
   ],
   "source": [
    "\n",
    "sum(arrests_df$old_officer_cnt != arrests_df$officer_cnt)"
   ]
  },
  {
   "cell_type": "code",
   "execution_count": 17,
   "metadata": {},
   "outputs": [
    {
     "data": {
      "text/html": [
       "8755"
      ],
      "text/latex": [
       "8755"
      ],
      "text/markdown": [
       "8755"
      ],
      "text/plain": [
       "[1] 8755"
      ]
     },
     "metadata": {},
     "output_type": "display_data"
    }
   ],
   "source": [
    "nrow(arrests_df)"
   ]
  }
 ],
 "metadata": {
  "@webio": {
   "lastCommId": null,
   "lastKernelId": null
  },
  "celltoolbar": "Slideshow",
  "kernelspec": {
   "display_name": "R",
   "language": "R",
   "name": "ir"
  },
  "language_info": {
   "codemirror_mode": "r",
   "file_extension": ".r",
   "mimetype": "text/x-r-source",
   "name": "R",
   "pygments_lexer": "r",
   "version": "4.0.2"
  }
 },
 "nbformat": 4,
 "nbformat_minor": 2
}
